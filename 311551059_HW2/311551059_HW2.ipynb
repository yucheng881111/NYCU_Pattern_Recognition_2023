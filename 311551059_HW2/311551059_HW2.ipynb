{
 "cells": [
  {
   "cell_type": "code",
   "execution_count": 1,
   "metadata": {},
   "outputs": [],
   "source": [
    "import numpy as np\n",
    "import pandas as pd\n",
    "import matplotlib.pyplot as plt "
   ]
  },
  {
   "cell_type": "code",
   "execution_count": 2,
   "metadata": {
    "id": "0FQ7Z945rnF5"
   },
   "outputs": [],
   "source": [
    "class FLD:\n",
    "    def __init__(self, num_labels):\n",
    "        \"\"\"\n",
    "            You can add/change any variables/methods to meet your need.\n",
    "        \"\"\"\n",
    "        self.mean_vectors = None\n",
    "        self.sw = None\n",
    "        self.sb = None\n",
    "        self.w = None\n",
    "        self.slope = None\n",
    "        self.num_labels = num_labels\n",
    "\n",
    "    def fit(self, X, y):\n",
    "        x_list = []\n",
    "        x_mean = []\n",
    "        for i in range(self.num_labels):\n",
    "            xi = X[y == i]\n",
    "            x_list.append(xi)\n",
    "            x_mean.append(np.mean(xi, axis=0))\n",
    "        self.mean_vectors = x_mean\n",
    "        \n",
    "        # calculate Sw\n",
    "        num_features = X.shape[1]\n",
    "        self.sw = np.zeros((num_features, num_features))\n",
    "        for i in range(self.num_labels):\n",
    "            self.sw += np.matmul((x_list[i] - x_mean[i]).T, (x_list[i] - x_mean[i]))\n",
    "        \n",
    "        # calculate Sb\n",
    "        m = np.mean(X, axis=0)\n",
    "        self.sb = np.zeros((num_features, num_features))\n",
    "        for i in range(self.num_labels):\n",
    "            Nk = x_list[i].shape[0]\n",
    "            tmp = (x_mean[i] - m).reshape(num_features,1)\n",
    "            self.sb += Nk * np.matmul(tmp, tmp.T)\n",
    "            \n",
    "        sw_inv = np.linalg.inv(self.sw)\n",
    "        eigenvalue, eigenvector = np.linalg.eig(np.matmul(sw_inv, self.sb))\n",
    "\n",
    "        # set w to eigenvector that correspons to the largest eigenvalue\n",
    "        max_eigenvalue_idx = np.argmax(eigenvalue)\n",
    "        self.w = eigenvector[:, max_eigenvalue_idx]\n",
    "        self.w = (self.w).reshape(num_features,1)\n",
    "\n",
    "    def predict_using_class_mean(self, X, y, X_test):\n",
    "        # return y_pred\n",
    "        X_proj = np.matmul(X, self.w)\n",
    "        X_test_proj = np.matmul(X_test, self.w)\n",
    "        y_pred = []\n",
    "        x_means = []\n",
    "        for i in range(self.num_labels):\n",
    "            x_means.append(np.mean(X_proj[y==i]))\n",
    "        x_means = np.array(x_means)\n",
    "        for i in range(X_test_proj.shape[0]):\n",
    "            dis = np.abs(x_means - X_test_proj[i, 0])\n",
    "            idx = np.argmin(dis)\n",
    "            y_pred.append(idx)\n",
    "            \n",
    "        return y_pred\n",
    "        \n",
    "\n",
    "    def predict_using_knn(self, X, y, X_test, k=1):\n",
    "        # return y_pred\n",
    "        X_proj = np.matmul(X, self.w)\n",
    "        X_test_proj = np.matmul(X_test, self.w)\n",
    "        y_pred = []\n",
    "        \n",
    "        for i in range(X_test_proj.shape[0]):\n",
    "            dis = np.abs(X_proj - X_test_proj[i, 0])\n",
    "            dis = dis.squeeze()\n",
    "            idxs = dis.argsort()[:k]\n",
    "            # voting for results\n",
    "            cnt = [0] * self.num_labels\n",
    "            for j in range(k):\n",
    "                cnt[y[idxs[j]]] += 1\n",
    "            y_pred.append(np.argmax(cnt))\n",
    "        \n",
    "        return y_pred\n",
    "        \n",
    "\n",
    "    def show_confusion_matrix(self, y, y_pred):\n",
    "        con_mat = np.zeros((self.num_labels, self.num_labels), dtype=int)\n",
    "        for i in range(self.num_labels):\n",
    "            for j in range(self.num_labels):\n",
    "                cnt = 0\n",
    "                for idx in range(len(y)):\n",
    "                    if y[idx]==i and y_pred[idx]==j:\n",
    "                        cnt += 1\n",
    "                \n",
    "                con_mat[i][j] = cnt\n",
    "        \n",
    "        print(con_mat)\n",
    "        \n",
    "\n",
    "    def plot_projection(self, X, y):\n",
    "        # Only support 2-d 3-label problem\n",
    "        \n",
    "        self.slope = self.w[1][0] / self.w[0][0]\n",
    "        x_lin = np.linspace(-13, 8, 50)\n",
    "        y_lin = x_lin * self.slope\n",
    "\n",
    "        plt.plot(x_lin, y_lin)\n",
    "        plt.xlabel('x')\n",
    "        plt.ylabel('y')\n",
    "        plt.title(f'Projection Line: w={self.slope}, b=0')\n",
    "\n",
    "        # plot class1 training data\n",
    "        x_c1, y_c1 = X[y == 0][:, 0], X[y == 0][:, 1]\n",
    "        plt.scatter(x_c1, y_c1, color='red', s=12, label='class1')\n",
    "\n",
    "        # plot class2 training data\n",
    "        x_c2, y_c2 = X[y == 1][:, 0], X[y == 1][:, 1]\n",
    "        plt.scatter(x_c2, y_c2, color='blue', s=12, label='class2')\n",
    "        \n",
    "        # plot class3 training data\n",
    "        x_c3, y_c3 = X[y == 2][:, 0], X[y == 2][:, 1]\n",
    "        plt.scatter(x_c3, y_c3, color='green', s=12, label='class3')\n",
    "\n",
    "        # project training data\n",
    "        w = np.squeeze(self.w)\n",
    "        for i in range(len(X)):\n",
    "            projection = (np.dot(X[i], w) / np.dot(w, w)) * w\n",
    "            if y[i] == 0:\n",
    "                plt.scatter(projection[0], projection[1], s=10, color='red')\n",
    "                plt.plot([X[i][0], projection[0]], [X[i][1], projection[1]], c='red', alpha=0.05)\n",
    "            elif y[i] == 1:\n",
    "                plt.scatter(projection[0], projection[1], s=10, color='blue')\n",
    "                plt.plot([X[i][0], projection[0]], [X[i][1], projection[1]], c='blue', alpha=0.05)\n",
    "            else:\n",
    "                plt.scatter(projection[0], projection[1], s=10, color='green')\n",
    "                plt.plot([X[i][0], projection[0]], [X[i][1], projection[1]], c='green', alpha=0.05)\n",
    "\n",
    "    def accuracy_score(self, y, y_pred):\n",
    "        acc = (y == y_pred).sum() / len(y)\n",
    "        return acc\n",
    "        "
   ]
  },
  {
   "cell_type": "code",
   "execution_count": 3,
   "metadata": {
    "id": "fNjwTeUD2UAV"
   },
   "outputs": [],
   "source": [
    "class MultiClassLogisticRegression:\n",
    "    \n",
    "    def __init__(self, num_labels):\n",
    "        \"\"\"\n",
    "            You can add/change any variables/methods to meet your need.\n",
    "        \"\"\"\n",
    "        self.epoch = []\n",
    "        self.train_loss = []\n",
    "        self.weights = None\n",
    "        self.num_labels = num_labels\n",
    "\n",
    "    def fit(self, X, y, batch_size=16, lr=0.001, epoch=100):\n",
    "        # y to one-hot\n",
    "        y_onehot = np.eye(self.num_labels)[y]\n",
    "        num_features = X.shape[1]\n",
    "        self.weights = np.zeros((num_features, self.num_labels))\n",
    "        \n",
    "        for i in range(epoch):\n",
    "            x_dot = np.matmul(X, self.weights)\n",
    "            x_softmax = np.array([self.softmax(x_dot[i]) for i in range(len(X))])\n",
    "            loss = self.cross_entropy(y_onehot, x_softmax)\n",
    "\n",
    "            dw = (1 / len(y)) * X.T @ (x_softmax - y_onehot)\n",
    "            self.weights -= lr * dw\n",
    "            #print(f'{i}: {loss}')\n",
    "            self.epoch.append(i)\n",
    "            self.train_loss.append(loss)\n",
    "\n",
    "    def predict(self, X):\n",
    "        x_dot = np.matmul(X, self.weights)\n",
    "        x_softmax = np.array([self.softmax(x_dot[i]) for i in range(len(X))])\n",
    "        y_pred = np.argmax(x_softmax, axis=1)\n",
    "        return y_pred\n",
    "\n",
    "    def evaluate(self, X, y):\n",
    "        y_pred = self.predict(X)\n",
    "        return self.accuracy_score(y, y_pred)\n",
    "\n",
    "    def softmax(self, z):\n",
    "        return np.exp(z) / np.sum(np.exp(z))\n",
    "\n",
    "    def cross_entropy(self, y, probs):\n",
    "        # y is one-hot\n",
    "        return -np.sum(y * np.log(probs)) / len(y)\n",
    "        \n",
    "    \n",
    "    def accuracy_score(self, y, y_pred):\n",
    "        acc = (y == y_pred).sum() / len(y)\n",
    "        return acc\n",
    "\n",
    "    def show_confusion_matrix(self, X, y):\n",
    "        y_pred = self.predict(X)\n",
    "        con_mat = np.zeros((self.num_labels, self.num_labels), dtype=int)\n",
    "        for i in range(self.num_labels):\n",
    "            for j in range(self.num_labels):\n",
    "                cnt = 0\n",
    "                for idx in range(len(y)):\n",
    "                    if y[idx]==i and y_pred[idx]==j:\n",
    "                        cnt += 1\n",
    "                \n",
    "                con_mat[i][j] = cnt\n",
    "        \n",
    "        print(con_mat)\n",
    "    \n",
    "    def plot_curve(self):\n",
    "        plt.plot(self.epoch, self.train_loss, 'b')\n",
    "        plt.xlabel('epoch', fontsize=12)\n",
    "        plt.ylabel('loss', fontsize=12)\n",
    "        plt.show()"
   ]
  },
  {
   "cell_type": "markdown",
   "metadata": {
    "id": "tW-wMhSw8fT8"
   },
   "source": [
    "# Prepare data for Q1 ~ Q12"
   ]
  },
  {
   "cell_type": "code",
   "execution_count": 4,
   "metadata": {
    "id": "k43aGfaQ7TsP"
   },
   "outputs": [],
   "source": [
    "df_train = pd.DataFrame(pd.read_csv(\"./PR_HW2_blob_train.csv\"))\n",
    "df_test  = pd.DataFrame(pd.read_csv(\"./PR_HW2_blob_test.csv\"))"
   ]
  },
  {
   "cell_type": "code",
   "execution_count": 5,
   "metadata": {
    "id": "2RqHvQCu76Yn"
   },
   "outputs": [
    {
     "name": "stdout",
     "output_type": "stream",
     "text": [
      "X_train (1000, 2)\n",
      "y_train (1000,)\n",
      "X_test (1000, 2)\n",
      "y_test (1000,)\n"
     ]
    }
   ],
   "source": [
    "X_train = df_train[['Feature1', 'Feature2']].to_numpy()\n",
    "y_train = df_train[['Target']].to_numpy().ravel()\n",
    "\n",
    "X_test = df_test[['Feature1', 'Feature2']].to_numpy()\n",
    "y_test = df_test[['Target']].to_numpy().ravel()\n",
    "\n",
    "print(\"X_train\", X_train.shape)\n",
    "print(\"y_train\", y_train.shape)\n",
    "print(\"X_test\",  X_test.shape)\n",
    "print(\"y_test\",  y_test.shape)"
   ]
  },
  {
   "cell_type": "code",
   "execution_count": 6,
   "metadata": {
    "id": "BMH5lm_PrhdD"
   },
   "outputs": [],
   "source": [
    "# Only these three packages are allowed\n",
    "import numpy as np\n",
    "import pandas as pd\n",
    "import matplotlib.pyplot as plt"
   ]
  },
  {
   "cell_type": "markdown",
   "metadata": {
    "id": "E_HKrHzE8_Sy"
   },
   "source": [
    "# MultiClass Logistic Regression"
   ]
  },
  {
   "cell_type": "code",
   "execution_count": 7,
   "metadata": {
    "id": "xN1uUlEC9FqA"
   },
   "outputs": [],
   "source": [
    "# For Q1\n",
    "lr = 0.001\n",
    "batch_size = len(X_train)\n",
    "epoch = 2500\n",
    "\n",
    "logistic_reg = MultiClassLogisticRegression(3)\n",
    "logistic_reg.fit(X_train, y_train, lr=lr, batch_size=batch_size, epoch=epoch)"
   ]
  },
  {
   "cell_type": "code",
   "execution_count": 8,
   "metadata": {
    "id": "R_Y8kIlQ9Jcz"
   },
   "outputs": [
    {
     "name": "stdout",
     "output_type": "stream",
     "text": [
      "Training acc:  0.894\n"
     ]
    }
   ],
   "source": [
    "# For Q2\n",
    "print('Training acc: ', logistic_reg.evaluate(X_train, y_train))"
   ]
  },
  {
   "cell_type": "code",
   "execution_count": 9,
   "metadata": {
    "id": "TzqioRVD9Jgn"
   },
   "outputs": [
    {
     "name": "stdout",
     "output_type": "stream",
     "text": [
      "Testing acc:  0.884\n"
     ]
    }
   ],
   "source": [
    "# For Q3\n",
    "print('Testing acc: ', logistic_reg.evaluate(X_test, y_test))"
   ]
  },
  {
   "cell_type": "code",
   "execution_count": 10,
   "metadata": {
    "id": "B_BSVWmM9JkX",
    "scrolled": true
   },
   "outputs": [
    {
     "data": {
      "image/png": "[encoded data removed]",
      "text/plain": [
       "<Figure size 432x288 with 1 Axes>"
      ]
     },
     "metadata": {
      "needs_background": "light"
     },
     "output_type": "display_data"
    }
   ],
   "source": [
    "# For Q4\n",
    "logistic_reg.plot_curve()"
   ]
  },
  {
   "cell_type": "code",
   "execution_count": 11,
   "metadata": {
    "id": "r8tAlAPc9JoP"
   },
   "outputs": [
    {
     "name": "stdout",
     "output_type": "stream",
     "text": [
      "[[281   0  59]\n",
      " [  0 333   0]\n",
      " [ 57   0 270]]\n"
     ]
    }
   ],
   "source": [
    "# For Q5\n",
    "logistic_reg.show_confusion_matrix(X_test, y_test)"
   ]
  },
  {
   "cell_type": "markdown",
   "metadata": {
    "id": "njoLZK84-sv3"
   },
   "source": [
    "# Fisher's Linear Discriminant Analysis"
   ]
  },
  {
   "cell_type": "code",
   "execution_count": 12,
   "metadata": {
    "id": "i-uhvrbe2mNe",
    "scrolled": false
   },
   "outputs": [],
   "source": [
    "fld = FLD(3)\n",
    "\n",
    "fld.fit(X_train, y_train)"
   ]
  },
  {
   "cell_type": "code",
   "execution_count": 13,
   "metadata": {
    "id": "t95-qsEl2nl_"
   },
   "outputs": [
    {
     "name": "stdout",
     "output_type": "stream",
     "text": [
      "Class mean vector:  [array([-4.17505764,  6.35526804]), array([-9.43385176, -4.87830741]), array([-2.54454008,  7.53144179])]\n"
     ]
    }
   ],
   "source": [
    "# For Q6\n",
    "print(\"Class mean vector: \", fld.mean_vectors)"
   ]
  },
  {
   "cell_type": "code",
   "execution_count": 14,
   "metadata": {
    "id": "czRrdHxV2olM"
   },
   "outputs": [
    {
     "name": "stdout",
     "output_type": "stream",
     "text": [
      "Within-class scatter matrix SW:  [[1052.70745046  -12.5828441 ]\n",
      " [ -12.5828441   971.29686189]]\n"
     ]
    }
   ],
   "source": [
    "# For Q7\n",
    "print(\"Within-class scatter matrix SW: \", fld.sw)"
   ]
  },
  {
   "cell_type": "code",
   "execution_count": 15,
   "metadata": {
    "id": "oETHjp4Y2oqg"
   },
   "outputs": [
    {
     "name": "stdout",
     "output_type": "stream",
     "text": [
      "Between-class scatter matrix SB:  [[ 8689.12907035 16344.86572983]\n",
      " [16344.86572983 31372.93949414]]\n"
     ]
    }
   ],
   "source": [
    "# For Q8\n",
    "print(\"Between-class scatter matrix SB: \", fld.sb)"
   ]
  },
  {
   "cell_type": "code",
   "execution_count": 16,
   "metadata": {
    "id": "dRytOEMl2otd"
   },
   "outputs": [
    {
     "name": "stdout",
     "output_type": "stream",
     "text": [
      "W:  [[-0.44115384]\n",
      " [-0.8974315 ]]\n"
     ]
    }
   ],
   "source": [
    "# For Q9\n",
    "print(\"W: \", fld.w)"
   ]
  },
  {
   "cell_type": "code",
   "execution_count": 17,
   "metadata": {
    "id": "Q9XMtITV2owM"
   },
   "outputs": [
    {
     "name": "stdout",
     "output_type": "stream",
     "text": [
      "FLD using class mean, accuracy:  0.861\n",
      "[[262   0  78]\n",
      " [  0 333   0]\n",
      " [ 61   0 266]]\n"
     ]
    }
   ],
   "source": [
    "# For Q10\n",
    "y_pred = fld.predict_using_class_mean(X_train, y_train, X_test)\n",
    "print(\"FLD using class mean, accuracy: \", fld.accuracy_score(y_test, y_pred))\n",
    "\n",
    "fld.show_confusion_matrix(y_test, y_pred)"
   ]
  },
  {
   "cell_type": "code",
   "execution_count": 18,
   "metadata": {
    "id": "7mmAB2BZ2oy5"
   },
   "outputs": [
    {
     "name": "stdout",
     "output_type": "stream",
     "text": [
      "FLD using knn (k=1), accuracy:  0.822\n",
      "FLD using knn (k=2), accuracy:  0.819\n",
      "FLD using knn (k=3), accuracy:  0.843\n",
      "FLD using knn (k=4), accuracy:  0.84\n",
      "FLD using knn (k=5), accuracy:  0.862\n"
     ]
    }
   ],
   "source": [
    "# For Q11\n",
    "y_pred_k1 = fld.predict_using_knn(X_train, y_train, X_test, k=1)\n",
    "print(\"FLD using knn (k=1), accuracy: \", fld.accuracy_score(y_test, y_pred_k1))\n",
    "\n",
    "y_pred_k2 = fld.predict_using_knn(X_train, y_train, X_test, k=2)\n",
    "print(\"FLD using knn (k=2), accuracy: \", fld.accuracy_score(y_test, y_pred_k2))\n",
    "\n",
    "y_pred_k3 = fld.predict_using_knn(X_train, y_train, X_test, k=3)\n",
    "print(\"FLD using knn (k=3), accuracy: \", fld.accuracy_score(y_test, y_pred_k3))\n",
    "\n",
    "y_pred_k4 = fld.predict_using_knn(X_train, y_train, X_test, k=4)\n",
    "print(\"FLD using knn (k=4), accuracy: \", fld.accuracy_score(y_test, y_pred_k4))\n",
    "\n",
    "y_pred_k5 = fld.predict_using_knn(X_train, y_train, X_test, k=5)\n",
    "print(\"FLD using knn (k=5), accuracy: \", fld.accuracy_score(y_test, y_pred_k5))"
   ]
  },
  {
   "cell_type": "code",
   "execution_count": 19,
   "metadata": {
    "id": "uAaGRQkg2o1e"
   },
   "outputs": [
    {
     "data": {
      "image/png": "[encoded data removed]",
      "text/plain": [
       "<Figure size 432x288 with 1 Axes>"
      ]
     },
     "metadata": {
      "needs_background": "light"
     },
     "output_type": "display_data"
    }
   ],
   "source": [
    "# For Q12, using only training data\n",
    "fld.plot_projection(X_train, y_train)"
   ]
  },
  {
   "cell_type": "markdown",
   "metadata": {
    "id": "PDeFV2_uAoL_"
   },
   "source": [
    "# Train your own model on provided dataset.\n",
    "You can only using 1) **Fisher's Linear Discriminant** or 2) **Logistic Regression** that you have implemented above."
   ]
  },
  {
   "cell_type": "code",
   "execution_count": 20,
   "metadata": {
    "id": "0GkkThFyBTN3"
   },
   "outputs": [],
   "source": [
    "df_train = pd.DataFrame(pd.read_csv(\"./PR_HW2_train.csv\"))\n",
    "df_val   = pd.DataFrame(pd.read_csv(\"./PR_HW2_val.csv\"))\n",
    "df_test  = pd.DataFrame(pd.read_csv(\"./PR_HW2_test.csv\"))"
   ]
  },
  {
   "cell_type": "code",
   "execution_count": 21,
   "metadata": {
    "id": "6Si9iL-0BWQS"
   },
   "outputs": [
    {
     "data": {
      "text/html": [
       "<div>\n",
       "<style scoped>\n",
       "    .dataframe tbody tr th:only-of-type {\n",
       "        vertical-align: middle;\n",
       "    }\n",
       "\n",
       "    .dataframe tbody tr th {\n",
       "        vertical-align: top;\n",
       "    }\n",
       "\n",
       "    .dataframe thead th {\n",
       "        text-align: right;\n",
       "    }\n",
       "</style>\n",
       "<table border=\"1\" class=\"dataframe\">\n",
       "  <thead>\n",
       "    <tr style=\"text-align: right;\">\n",
       "      <th></th>\n",
       "      <th>Feature1</th>\n",
       "      <th>Feature2</th>\n",
       "      <th>Feature3</th>\n",
       "      <th>Feature4</th>\n",
       "      <th>Target</th>\n",
       "    </tr>\n",
       "  </thead>\n",
       "  <tbody>\n",
       "    <tr>\n",
       "      <th>0</th>\n",
       "      <td>0.00668</td>\n",
       "      <td>0.00192</td>\n",
       "      <td>0.682</td>\n",
       "      <td>0.996</td>\n",
       "      <td>2.0</td>\n",
       "    </tr>\n",
       "    <tr>\n",
       "      <th>1</th>\n",
       "      <td>0.00680</td>\n",
       "      <td>0.00106</td>\n",
       "      <td>0.503</td>\n",
       "      <td>0.996</td>\n",
       "      <td>1.0</td>\n",
       "    </tr>\n",
       "    <tr>\n",
       "      <th>2</th>\n",
       "      <td>0.00742</td>\n",
       "      <td>0.00106</td>\n",
       "      <td>0.482</td>\n",
       "      <td>0.991</td>\n",
       "      <td>1.0</td>\n",
       "    </tr>\n",
       "    <tr>\n",
       "      <th>3</th>\n",
       "      <td>0.00685</td>\n",
       "      <td>0.00178</td>\n",
       "      <td>0.650</td>\n",
       "      <td>0.998</td>\n",
       "      <td>2.0</td>\n",
       "    </tr>\n",
       "    <tr>\n",
       "      <th>4</th>\n",
       "      <td>0.00680</td>\n",
       "      <td>0.00163</td>\n",
       "      <td>0.623</td>\n",
       "      <td>0.996</td>\n",
       "      <td>2.0</td>\n",
       "    </tr>\n",
       "  </tbody>\n",
       "</table>\n",
       "</div>"
      ],
      "text/plain": [
       "   Feature1  Feature2  Feature3  Feature4  Target\n",
       "0   0.00668   0.00192     0.682     0.996     2.0\n",
       "1   0.00680   0.00106     0.503     0.996     1.0\n",
       "2   0.00742   0.00106     0.482     0.991     1.0\n",
       "3   0.00685   0.00178     0.650     0.998     2.0\n",
       "4   0.00680   0.00163     0.623     0.996     2.0"
      ]
     },
     "execution_count": 21,
     "metadata": {},
     "output_type": "execute_result"
    }
   ],
   "source": [
    "df_train.head()"
   ]
  },
  {
   "cell_type": "code",
   "execution_count": 22,
   "metadata": {
    "id": "qw1B1bIkBdN4",
    "scrolled": true
   },
   "outputs": [
    {
     "data": {
      "text/html": [
       "<div>\n",
       "<style scoped>\n",
       "    .dataframe tbody tr th:only-of-type {\n",
       "        vertical-align: middle;\n",
       "    }\n",
       "\n",
       "    .dataframe tbody tr th {\n",
       "        vertical-align: top;\n",
       "    }\n",
       "\n",
       "    .dataframe thead th {\n",
       "        text-align: right;\n",
       "    }\n",
       "</style>\n",
       "<table border=\"1\" class=\"dataframe\">\n",
       "  <thead>\n",
       "    <tr style=\"text-align: right;\">\n",
       "      <th></th>\n",
       "      <th>Feature1</th>\n",
       "      <th>Feature2</th>\n",
       "      <th>Feature3</th>\n",
       "      <th>Feature4</th>\n",
       "      <th>Target</th>\n",
       "    </tr>\n",
       "  </thead>\n",
       "  <tbody>\n",
       "    <tr>\n",
       "      <th>0</th>\n",
       "      <td>0.00699</td>\n",
       "      <td>0.000877</td>\n",
       "      <td>0.451</td>\n",
       "      <td>0.994</td>\n",
       "      <td>NaN</td>\n",
       "    </tr>\n",
       "    <tr>\n",
       "      <th>1</th>\n",
       "      <td>0.00736</td>\n",
       "      <td>0.001370</td>\n",
       "      <td>0.549</td>\n",
       "      <td>0.998</td>\n",
       "      <td>NaN</td>\n",
       "    </tr>\n",
       "    <tr>\n",
       "      <th>2</th>\n",
       "      <td>0.00687</td>\n",
       "      <td>0.001420</td>\n",
       "      <td>0.580</td>\n",
       "      <td>0.992</td>\n",
       "      <td>NaN</td>\n",
       "    </tr>\n",
       "    <tr>\n",
       "      <th>3</th>\n",
       "      <td>0.00752</td>\n",
       "      <td>0.002520</td>\n",
       "      <td>0.737</td>\n",
       "      <td>0.996</td>\n",
       "      <td>NaN</td>\n",
       "    </tr>\n",
       "    <tr>\n",
       "      <th>4</th>\n",
       "      <td>0.00685</td>\n",
       "      <td>0.000910</td>\n",
       "      <td>0.464</td>\n",
       "      <td>0.992</td>\n",
       "      <td>NaN</td>\n",
       "    </tr>\n",
       "  </tbody>\n",
       "</table>\n",
       "</div>"
      ],
      "text/plain": [
       "   Feature1  Feature2  Feature3  Feature4  Target\n",
       "0   0.00699  0.000877     0.451     0.994     NaN\n",
       "1   0.00736  0.001370     0.549     0.998     NaN\n",
       "2   0.00687  0.001420     0.580     0.992     NaN\n",
       "3   0.00752  0.002520     0.737     0.996     NaN\n",
       "4   0.00685  0.000910     0.464     0.992     NaN"
      ]
     },
     "execution_count": 22,
     "metadata": {},
     "output_type": "execute_result"
    }
   ],
   "source": [
    "df_test.head()"
   ]
  },
  {
   "cell_type": "code",
   "execution_count": 23,
   "metadata": {
    "id": "tDeQjZsuDagp"
   },
   "outputs": [
    {
     "name": "stdout",
     "output_type": "stream",
     "text": [
      "(1703, 4)\n",
      "(730, 4)\n",
      "(5677, 4)\n"
     ]
    }
   ],
   "source": [
    "# Data processing\n",
    "# Refer to section \"Prepare data for Q1 ~ Q12\"\n",
    "\n",
    "x_train = df_train.drop(['Target'], axis=1)\n",
    "#x_train = df_train.drop(['Target', 'Feature3'], axis=1)\n",
    "y_train = df_train['Target']\n",
    "x_train = np.array(x_train)\n",
    "y_train = np.array(y_train, dtype=int)\n",
    "print(x_train.shape)\n",
    "\n",
    "x_val = df_val.drop(['Target'], axis=1)\n",
    "#x_val = df_val.drop(['Target', 'Feature3'], axis=1)\n",
    "y_val = df_val['Target']\n",
    "x_val = np.array(x_val)\n",
    "y_val = np.array(y_val, dtype=int)\n",
    "print(x_val.shape)\n",
    "\n",
    "x_test = df_test.drop(['Target'], axis=1)\n",
    "x_test = np.array(x_test)\n",
    "print(x_test.shape)\n",
    "\n",
    "class QuantileTransformer:\n",
    "    def __init__(self, n_quantiles=100):\n",
    "        self.n_quantiles = n_quantiles\n",
    "\n",
    "    def fit(self, X):\n",
    "        self.quantiles_ = np.linspace(0, 1, self.n_quantiles)\n",
    "        self.references_ = np.quantile(X, self.quantiles_)\n",
    "        return self\n",
    "\n",
    "    def transform(self, X):\n",
    "        X_transformed = np.interp(X, self.references_, self.quantiles_)\n",
    "        return X_transformed\n",
    "\n",
    "    def fit_transform(self, X):\n",
    "        return self.fit(X).transform(X)\n",
    "\n",
    "def l2_norm(x):\n",
    "    return x / np.sqrt(np.sum(x * x))\n",
    "\n",
    "\n",
    "x_train = np.array([l2_norm(x_train[i]) for i in range(len(x_train))])\n",
    "x_val = np.array([l2_norm(x_val[i]) for i in range(len(x_val))])\n",
    "x_test = np.array([l2_norm(x_test[i]) for i in range(len(x_test))])\n",
    "\n",
    "quantile_transformer = QuantileTransformer(500)\n",
    "x_train = quantile_transformer.fit_transform(x_train)\n",
    "x_val = quantile_transformer.transform(x_val)\n",
    "x_test = quantile_transformer.transform(x_test)"
   ]
  },
  {
   "cell_type": "code",
   "execution_count": 24,
   "metadata": {
    "id": "p9vEErR9Bf_a"
   },
   "outputs": [
    {
     "name": "stdout",
     "output_type": "stream",
     "text": [
      "FLD using class mean, accuracy:  0.8780821917808219\n",
      "FLD using knn (k=1), accuracy:  0.8438356164383561\n",
      "FLD using knn (k=2), accuracy:  0.8493150684931506\n",
      "FLD using knn (k=3), accuracy:  0.873972602739726\n",
      "FLD using knn (k=4), accuracy:  0.8780821917808219\n",
      "FLD using knn (k=5), accuracy:  0.8794520547945206\n",
      "FLD using knn (k=10), accuracy:  0.8808219178082192\n",
      "FLD using knn (k=20), accuracy:  0.8890410958904109\n",
      "FLD using knn (k=30), accuracy:  0.8945205479452055\n",
      "FLD using knn (k=40), accuracy:  0.9054794520547945\n",
      "FLD using knn (k=50), accuracy:  0.9041095890410958\n"
     ]
    }
   ],
   "source": [
    "# Train your model here\n",
    "\n",
    "# your_model = ...\n",
    "\n",
    "# Try FLD\n",
    "my_fld = FLD(3)\n",
    "my_fld.fit(x_train, y_train)\n",
    "\n",
    "y_pred = my_fld.predict_using_class_mean(x_train, y_train, x_val)\n",
    "print(\"FLD using class mean, accuracy: \", my_fld.accuracy_score(y_val, y_pred))\n",
    "\n",
    "y_pred_k1 = my_fld.predict_using_knn(x_train, y_train, x_val, k=1)\n",
    "print(\"FLD using knn (k=1), accuracy: \", my_fld.accuracy_score(y_val, y_pred_k1))\n",
    "\n",
    "y_pred_k2 = my_fld.predict_using_knn(x_train, y_train, x_val, k=2)\n",
    "print(\"FLD using knn (k=2), accuracy: \", my_fld.accuracy_score(y_val, y_pred_k2))\n",
    "\n",
    "y_pred_k3 = my_fld.predict_using_knn(x_train, y_train, x_val, k=3)\n",
    "print(\"FLD using knn (k=3), accuracy: \", my_fld.accuracy_score(y_val, y_pred_k3))\n",
    "\n",
    "y_pred_k4 = my_fld.predict_using_knn(x_train, y_train, x_val, k=4)\n",
    "print(\"FLD using knn (k=4), accuracy: \", my_fld.accuracy_score(y_val, y_pred_k4))\n",
    "\n",
    "y_pred_k5 = my_fld.predict_using_knn(x_train, y_train, x_val, k=5)\n",
    "print(\"FLD using knn (k=5), accuracy: \", my_fld.accuracy_score(y_val, y_pred_k5))\n",
    "\n",
    "y_pred_k10 = my_fld.predict_using_knn(x_train, y_train, x_val, k=10)\n",
    "print(\"FLD using knn (k=10), accuracy: \", my_fld.accuracy_score(y_val, y_pred_k10))\n",
    "\n",
    "y_pred_k20 = my_fld.predict_using_knn(x_train, y_train, x_val, k=20)\n",
    "print(\"FLD using knn (k=20), accuracy: \", my_fld.accuracy_score(y_val, y_pred_k20))\n",
    "\n",
    "y_pred_k30 = my_fld.predict_using_knn(x_train, y_train, x_val, k=30)\n",
    "print(\"FLD using knn (k=30), accuracy: \", my_fld.accuracy_score(y_val, y_pred_k30))\n",
    "\n",
    "y_pred_k40 = my_fld.predict_using_knn(x_train, y_train, x_val, k=40)\n",
    "print(\"FLD using knn (k=40), accuracy: \", my_fld.accuracy_score(y_val, y_pred_k40))\n",
    "\n",
    "y_pred_k50 = my_fld.predict_using_knn(x_train, y_train, x_val, k=50)\n",
    "print(\"FLD using knn (k=50), accuracy: \", my_fld.accuracy_score(y_val, y_pred_k50))"
   ]
  },
  {
   "cell_type": "code",
   "execution_count": 25,
   "metadata": {
    "id": "68NrvUPsBsy8"
   },
   "outputs": [
    {
     "name": "stdout",
     "output_type": "stream",
     "text": [
      "test_pred shape:  (5677, 1)\n"
     ]
    }
   ],
   "source": [
    "test_pred = my_fld.predict_using_knn(x_train, y_train, x_test, k=50)\n",
    "test_pred = np.expand_dims(test_pred, axis=1)\n",
    "print(\"test_pred shape: \", test_pred.shape)"
   ]
  },
  {
   "cell_type": "markdown",
   "metadata": {
    "id": "LBTMFtdlB55p"
   },
   "source": [
    "# Output the csv file"
   ]
  },
  {
   "cell_type": "code",
   "execution_count": 26,
   "metadata": {
    "id": "C2OL-EI2B3ja"
   },
   "outputs": [],
   "source": [
    "# For Q13\n",
    "df_test = pd.DataFrame(pd.read_csv(\"./PR_HW2_test.csv\"))\n",
    "df_test[\"Target\"] = test_pred\n",
    "df_test.to_csv(\"sample_output.csv\")"
   ]
  }
 ],
 "metadata": {
  "colab": {
   "provenance": []
  },
  "kernelspec": {
   "display_name": "Python 3 (ipykernel)",
   "language": "python",
   "name": "python3"
  },
  "language_info": {
   "codemirror_mode": {
    "name": "ipython",
    "version": 3
   },
   "file_extension": ".py",
   "mimetype": "text/x-python",
   "name": "python",
   "nbconvert_exporter": "python",
   "pygments_lexer": "ipython3",
   "version": "3.8.8"
  }
 },
 "nbformat": 4,
 "nbformat_minor": 1
}
