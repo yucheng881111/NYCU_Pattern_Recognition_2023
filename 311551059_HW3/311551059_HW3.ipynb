{
 "cells": [
  {
   "cell_type": "code",
   "execution_count": 1,
   "metadata": {
    "id": "ZQD8NqPhKyBP"
   },
   "outputs": [],
   "source": [
    "import copy\n",
    "import pandas as pd\n",
    "import numpy as np\n",
    "import matplotlib.pyplot as plt\n",
    "from sklearn.metrics import accuracy_score # Please note that this is the only sklearn function that can be utilized."
   ]
  },
  {
   "cell_type": "markdown",
   "metadata": {
    "id": "YV1MHt_VTg9f"
   },
   "source": [
    "# Load data"
   ]
  },
  {
   "cell_type": "code",
   "execution_count": 2,
   "metadata": {
    "id": "a1vkTOD6K5Nj"
   },
   "outputs": [],
   "source": [
    "# Load the train/val/test dataset\n",
    "\n",
    "df_train = pd.DataFrame(pd.read_csv(\"./PR_HW3_Train.csv\"))\n",
    "df_val   = pd.DataFrame(pd.read_csv(\"./PR_HW3_Val.csv\"))\n",
    "df_test  = pd.DataFrame(pd.read_csv(\"./PR_HW3_Test.csv\"))\n",
    "\n",
    "X_train = df_train[['Feature1', 'Feature2', 'Feature3', 'Feature4', 'Feature5', 'Feature6', 'Feature7']].to_numpy()\n",
    "y_train = df_train[\"Target\"].to_numpy()\n",
    "\n",
    "X_val = df_val[['Feature1', 'Feature2', 'Feature3', 'Feature4', 'Feature5', 'Feature6', 'Feature7']].to_numpy()\n",
    "y_val = df_val[\"Target\"].to_numpy()\n",
    "\n",
    "X_test = df_test[['Feature1', 'Feature2', 'Feature3', 'Feature4', 'Feature5', 'Feature6', 'Feature7']].to_numpy()\n",
    "y_test = df_test[\"Target\"].to_numpy()"
   ]
  },
  {
   "cell_type": "code",
   "execution_count": 3,
   "metadata": {
    "id": "MJcktFIuK78Y"
   },
   "outputs": [
    {
     "name": "stdout",
     "output_type": "stream",
     "text": [
      "(800, 7)\n",
      "(800,)\n",
      "(800, 7)\n",
      "(800,)\n",
      "(800, 7)\n",
      "(800,)\n"
     ]
    }
   ],
   "source": [
    "print(X_train.shape)\n",
    "print(y_train.shape)\n",
    "print(X_val.shape)\n",
    "print(y_val.shape)\n",
    "print(X_test.shape)\n",
    "print(y_test.shape)"
   ]
  },
  {
   "cell_type": "markdown",
   "metadata": {
    "id": "wa3hnJ9sTkvh"
   },
   "source": [
    "# Model Implementation"
   ]
  },
  {
   "cell_type": "code",
   "execution_count": 4,
   "metadata": {
    "id": "5e_nviB8LAK8"
   },
   "outputs": [],
   "source": [
    "def gini(sequence):\n",
    "    unique, counts = np.unique(sequence, return_counts=True)\n",
    "    s = np.sum(counts)\n",
    "    result = 0\n",
    "    for c in counts:\n",
    "        result += (c/s)**2\n",
    "    \n",
    "    return 1 - result\n",
    "\n",
    "\n",
    "def entropy(sequence):\n",
    "    unique, counts = np.unique(sequence, return_counts=True)\n",
    "    s = np.sum(counts)\n",
    "    result = 0\n",
    "    for c in counts:\n",
    "        result += (c/s) * np.log2(c/s)\n",
    "    \n",
    "    return -result"
   ]
  },
  {
   "cell_type": "code",
   "execution_count": 5,
   "metadata": {
    "id": "_HJA_108LF_G"
   },
   "outputs": [],
   "source": [
    "class Tree():\n",
    "    \"\"\"\n",
    "        You can add/change any variables/methods to meet your need.\n",
    "    \"\"\"\n",
    "    def __init__(self, pred, depth):\n",
    "        self.pred = pred\n",
    "        self.attribute = ''\n",
    "        self.threshold = 0\n",
    "        self.left_child = None\n",
    "        self.right_child = None\n",
    "        self.depth = depth\n"
   ]
  },
  {
   "cell_type": "code",
   "execution_count": 6,
   "metadata": {
    "id": "O_vgKCIwLdS0"
   },
   "outputs": [],
   "source": [
    "class DecisionTree():\n",
    "    def __init__(self, criterion='gini', max_depth=None, max_features=None):\n",
    "        \n",
    "        \"\"\"\n",
    "            You can add/change any variables/methods to meet your need.\n",
    "        \"\"\"\n",
    "        self.root = None\n",
    "        self.num_attr = 0\n",
    "\n",
    "        if criterion == 'gini':\n",
    "            self.criterion = gini\n",
    "        elif criterion == 'entropy':\n",
    "            self.criterion = entropy\n",
    "        \n",
    "        if max_depth is None:\n",
    "            self.max_depth = 1e9\n",
    "        else:\n",
    "            self.max_depth = max_depth\n",
    "\n",
    "        self.importance = {}\n",
    "        self.max_features = max_features\n",
    "\n",
    "    def split(self, X, y):\n",
    "        best_attr = -1\n",
    "        best_thres = -1e9\n",
    "        X_tmp = np.column_stack((X, y))\n",
    "        \n",
    "        min_ent = self.criterion(y)\n",
    "        \n",
    "        attr_list = range(self.num_attr)\n",
    "        if self.max_features != None:\n",
    "            attr_list = np.random.choice(attr_list, size=self.max_features, replace=False)\n",
    "            \n",
    "        for attr in attr_list:\n",
    "            res = X_tmp[X_tmp[:, attr].argsort()]\n",
    "\n",
    "            for thres_idx in range(1, len(res)):\n",
    "                thres = res[:, attr][thres_idx]\n",
    "                left_index = np.where(res[:, attr] < thres)\n",
    "                left = res[left_index]\n",
    "                right_index = np.where(res[:, attr] >= thres)\n",
    "                right = res[right_index]\n",
    "                left_ent = self.criterion(left[:,self.num_attr])\n",
    "                right_ent = self.criterion(right[:,self.num_attr])\n",
    "                total_ent = left_ent * (len(left)/len(res)) + right_ent * (len(right)/len(res))\n",
    "                if total_ent < min_ent:\n",
    "                    min_ent = total_ent\n",
    "                    best_attr = attr\n",
    "                    best_thres = thres\n",
    "            \n",
    "        \n",
    "        return best_attr, best_thres\n",
    "        \n",
    "    def build(self, X, y, depth):\n",
    "        unique, counts = np.unique(y, return_counts=True)\n",
    "        pred = unique[np.argmax(counts)]\n",
    "        node = Tree(pred, depth)\n",
    "        \n",
    "        if self.max_depth == 1e9 or depth < self.max_depth:\n",
    "            attr, thres = self.split(X, y)\n",
    "            \n",
    "            if attr != -1:\n",
    "                left_index = np.where(X[:, attr] < thres)\n",
    "                X_left = X[left_index]\n",
    "                y_left = y[left_index]\n",
    "                right_index = np.where(X[:, attr] >= thres)\n",
    "                X_right = X[right_index]\n",
    "                y_right = y[right_index]\n",
    "                \n",
    "                node.attribute = attr\n",
    "                node.threshold = thres\n",
    "                self.importance[attr] += 1\n",
    "                node.left_child = self.build(X_left, y_left, depth+1)\n",
    "                node.right_child = self.build(X_right, y_right, depth+1)\n",
    "            \n",
    "        return node\n",
    "\n",
    "    def fit(self, X, y, sample_weight=None):\n",
    "        self.num_attr = X.shape[1]\n",
    "        self.importance = [0] * self.num_attr\n",
    "        self.root = self.build(X, y, 0)\n",
    "\n",
    "    def predict(self, X):\n",
    "        y_pred = []\n",
    "        for item in X:\n",
    "            curr_node = self.root\n",
    "            while True:\n",
    "                if curr_node.left_child == None or curr_node.right_child == None:\n",
    "                    break\n",
    "                \n",
    "                if item[curr_node.attribute] < curr_node.threshold:\n",
    "                    curr_node = curr_node.left_child\n",
    "                else:\n",
    "                    curr_node = curr_node.right_child\n",
    "            \n",
    "            y_pred.append(curr_node.pred)\n",
    "        \n",
    "        return np.array(y_pred)\n",
    "        \n",
    "\n",
    "    def countImportance(self):\n",
    "        pass"
   ]
  },
  {
   "cell_type": "code",
   "execution_count": 7,
   "metadata": {
    "id": "BE8wu0MGN_H-"
   },
   "outputs": [],
   "source": [
    "class RandomForest():\n",
    "    \"\"\"\n",
    "        You can add/change any variables/methods to meet your need.\n",
    "    \"\"\"\n",
    "    def __init__(self, n_estimators=10, max_features=None, boostrap=True, criterion='gini', max_depth=None):\n",
    "        \n",
    "        self.n_estimators = n_estimators\n",
    "        if max_features != None:\n",
    "            self.max_features = int(max_features)\n",
    "        else:\n",
    "            self.max_features = max_features\n",
    "        self.boostrap = boostrap\n",
    "        self.criterion = criterion\n",
    "        self.max_depth = max_depth\n",
    "        self.trees = []\n",
    "        \n",
    "    def fit(self, X, y):\n",
    "        for _ in range(self.n_estimators):\n",
    "            if self.boostrap:\n",
    "                idxs = range(len(X))\n",
    "                idxs = np.random.choice(idxs, size=int(len(X)/2), replace=False)\n",
    "                X_sub = X[idxs]\n",
    "                y_sub = y[idxs]\n",
    "            \n",
    "            tree = DecisionTree(criterion=self.criterion, max_depth=self.max_depth, max_features=self.max_features)\n",
    "            tree.fit(X_sub, y_sub)\n",
    "            self.trees.append(tree)\n",
    "\n",
    "    def predict(self, X):\n",
    "        # majority vote\n",
    "        total_pred = []\n",
    "        for tree in self.trees:\n",
    "            y_pred = tree.predict(X)\n",
    "            total_pred.append(y_pred)\n",
    "        \n",
    "        total_pred = np.array(total_pred)\n",
    "        y_pred = []\n",
    "        for i in range(len(X)):\n",
    "            unique, counts = np.unique(total_pred[:, i], return_counts=True)\n",
    "            pred = unique[np.argmax(counts)]\n",
    "            y_pred.append(pred)\n",
    "            \n",
    "        return np.array(y_pred)"
   ]
  },
  {
   "cell_type": "markdown",
   "metadata": {
    "id": "RPUsaCh2T9Fs"
   },
   "source": [
    "# Questions for Decision Tree"
   ]
  },
  {
   "cell_type": "code",
   "execution_count": 8,
   "metadata": {
    "id": "zSB-Uqp4OaaX"
   },
   "outputs": [
    {
     "name": "stdout",
     "output_type": "stream",
     "text": [
      "['+' '+' '+' '+' '+' '-']: entropy = 0.6500224216483541\n",
      "['+' '+' '+' '-' '-' '-']: entropy = 1.0\n",
      "['+' '-' '-' '-' '-' '-']: entropy = 0.6500224216483541\n",
      "\n",
      "['+' '+' '+' '+' '+' '-']: gini index = 0.2777777777777777\n",
      "['+' '+' '+' '-' '-' '-']: gini index = 0.5\n",
      "['+' '-' '-' '-' '-' '-']: gini index = 0.2777777777777777\n",
      "\n"
     ]
    }
   ],
   "source": [
    "# For Q1\n",
    "ex1 = np.array([\"+\", \"+\", \"+\", \"+\", \"+\", \"-\"])\n",
    "ex2 = np.array([\"+\", \"+\", \"+\", \"-\", \"-\", \"-\"])\n",
    "ex3 = np.array([\"+\" ,\"-\", \"-\", \"-\", \"-\", \"-\"])\n",
    "\n",
    "print(f\"{ex1}: entropy = {entropy(ex1)}\\n{ex2}: entropy = {entropy(ex2)}\\n{ex3}: entropy = {entropy(ex3)}\\n\")\n",
    "print(f\"{ex1}: gini index = {gini(ex1)}\\n{ex2}: gini index = {gini(ex2)}\\n{ex3}: gini index = {gini(ex3)}\\n\")"
   ]
  },
  {
   "cell_type": "code",
   "execution_count": 9,
   "metadata": {
    "id": "G_t9N9fnOdon"
   },
   "outputs": [
    {
     "name": "stdout",
     "output_type": "stream",
     "text": [
      "Q2-1 max_depth=3:  0.7325\n"
     ]
    }
   ],
   "source": [
    "# For Q2-1, validation accuracy should be higher than or equal to 0.73\n",
    "\n",
    "np.random.seed(0) # You may adjust the seed number in all the cells\n",
    "\n",
    "dt_depth3 = DecisionTree(criterion='gini', max_features=None, max_depth=3)\n",
    "dt_depth3.fit(X_train, y_train, sample_weight=None)\n",
    "\n",
    "acc = accuracy_score(y_val, dt_depth3.predict(X_val))\n",
    "\n",
    "print(\"Q2-1 max_depth=3: \", acc)"
   ]
  },
  {
   "cell_type": "code",
   "execution_count": 10,
   "metadata": {
    "id": "T0HcgzMdjHRP"
   },
   "outputs": [
    {
     "data": {
      "text/plain": [
       "\"\\n    Updated as of 20:30 on Apr. 22.\\n    The accuracy assertion has been removed. However, you can still use Sklearn's accuracy metric to evaluate the correctness of your implementation.\\n\""
      ]
     },
     "execution_count": 10,
     "metadata": {},
     "output_type": "execute_result"
    }
   ],
   "source": [
    "\"\"\"\n",
    "    Updated as of 20:30 on Apr. 22.\n",
    "    The accuracy assertion has been removed. However, you can still use Sklearn's accuracy metric to evaluate the correctness of your implementation.\n",
    "\"\"\"\n",
    "\n",
    "# \"\"\" Do Not Modify Below \"\"\"\n",
    "\n",
    "# from sklearn.tree import DecisionTreeClassifier as SK_DecisionTreeClassifier\n",
    "\n",
    "# sk_dt = SK_DecisionTreeClassifier(criterion='gini', max_depth=3)\n",
    "# sk_dt.fit(X_train, y_train)\n",
    "# sk_acc = accuracy_score(y_val, sk_dt.predict(X_val))\n",
    "\n",
    "# assert round(acc, 3) == round(sk_acc, 3), \"Because the Decision Tree without any trick has a fixed answer, your accuracy should be the same as sklearn, otherwise your implementation might have some problems\""
   ]
  },
  {
   "cell_type": "code",
   "execution_count": 11,
   "metadata": {
    "id": "SjCPMr-eQ7jn"
   },
   "outputs": [
    {
     "name": "stdout",
     "output_type": "stream",
     "text": [
      "Q2-2 max_depth=10:  0.855\n"
     ]
    }
   ],
   "source": [
    "# For Q2-2, validation accuracy should be higher than or equal to 0.85\n",
    "\n",
    "np.random.seed(0)\n",
    "\n",
    "dt_depth10 = DecisionTree(criterion='gini', max_features=None, max_depth=10)\n",
    "dt_depth10.fit(X_train, y_train, sample_weight=None)\n",
    "\n",
    "print(\"Q2-2 max_depth=10: \", accuracy_score(y_val,  dt_depth10.predict(X_val)))"
   ]
  },
  {
   "cell_type": "code",
   "execution_count": 12,
   "metadata": {
    "id": "iTbxGPrbO2jT"
   },
   "outputs": [
    {
     "name": "stdout",
     "output_type": "stream",
     "text": [
      "Q3-1 criterion='gini':  0.7325\n"
     ]
    }
   ],
   "source": [
    "# For Q3-1, validation accuracy should be higher than or equal to 0.73\n",
    "\n",
    "np.random.seed(0)\n",
    "\n",
    "dt_gini = DecisionTree(criterion='gini', max_features=None, max_depth=3)\n",
    "dt_gini.fit(X_train, y_train, sample_weight=None)\n",
    "\n",
    "print(\"Q3-1 criterion='gini': \", accuracy_score(y_val, dt_gini.predict(X_val)))\n"
   ]
  },
  {
   "cell_type": "code",
   "execution_count": 13,
   "metadata": {
    "id": "1XG7eAKUQ-YU"
   },
   "outputs": [
    {
     "name": "stdout",
     "output_type": "stream",
     "text": [
      "Q3-2 criterion='entropy':  0.77\n"
     ]
    }
   ],
   "source": [
    "# For Q3-2, validation accuracy should be higher than or equal to 0.77\n",
    "\n",
    "np.random.seed(0)\n",
    "\n",
    "dt_entropy = DecisionTree(criterion='entropy', max_features=None, max_depth=3)\n",
    "dt_entropy.fit(X_train, y_train, sample_weight=None)\n",
    "\n",
    "print(\"Q3-2 criterion='entropy': \", accuracy_score(y_val, dt_entropy.predict(X_val)))"
   ]
  },
  {
   "cell_type": "code",
   "execution_count": 14,
   "metadata": {
    "id": "joE89xabPsXg"
   },
   "outputs": [
    {
     "data": {
      "image/png": "[encoded data removed]",
      "text/plain": [
       "<Figure size 432x288 with 1 Axes>"
      ]
     },
     "metadata": {
      "needs_background": "light"
     },
     "output_type": "display_data"
    }
   ],
   "source": [
    "# For Q4\n",
    "\n",
    "# Use simply counting to get the feature importance: dt_depth10.importance\n",
    "\n",
    "labelList=['Feature1', 'Feature2', 'Feature3', 'Feature4', 'Feature5', 'Feature6', 'Feature7']\n",
    "\n",
    "plt.title('Feature Importance')\n",
    "plt.barh(labelList, dt_depth10.importance)\n",
    "plt.show()"
   ]
  },
  {
   "cell_type": "markdown",
   "metadata": {
    "id": "Wg97qz_xUGfP"
   },
   "source": [
    "# Questions for Random Rorest"
   ]
  },
  {
   "cell_type": "code",
   "execution_count": 15,
   "metadata": {
    "id": "SlrdIW1ERJ8F"
   },
   "outputs": [
    {
     "name": "stdout",
     "output_type": "stream",
     "text": [
      "Q6-1 n_estimators=10:  0.8975\n"
     ]
    }
   ],
   "source": [
    "# For Q5-1, validation accuracy should be higher than or equal to 0.88\n",
    "\n",
    "np.random.seed(0)\n",
    "\n",
    "rf_estimators10 = RandomForest(n_estimators=10, max_features=np.sqrt(X_train.shape[1]), boostrap=True, criterion='gini', max_depth=None)\n",
    "rf_estimators10.fit(X_train, y_train)\n",
    "\n",
    "print(\"Q6-1 n_estimators=10: \", accuracy_score(y_val, rf_estimators10.predict(X_val)))"
   ]
  },
  {
   "cell_type": "code",
   "execution_count": 16,
   "metadata": {
    "id": "4qcLuIkbRUfM"
   },
   "outputs": [
    {
     "name": "stdout",
     "output_type": "stream",
     "text": [
      "Q6-1 n_estimators=50:  0.89625\n"
     ]
    }
   ],
   "source": [
    "# For Q5-2, validation accuracy should be higher than or equal to 0.89\n",
    "\n",
    "np.random.seed(0)\n",
    "\n",
    "rf_estimators50 = RandomForest(n_estimators=50, max_features=np.sqrt(X_train.shape[1]), boostrap=True, criterion='gini', max_depth=None)\n",
    "rf_estimators50.fit(X_train, y_train)\n",
    "\n",
    "print(\"Q6-1 n_estimators=50: \", accuracy_score(y_val, rf_estimators50.predict(X_val)))"
   ]
  },
  {
   "cell_type": "code",
   "execution_count": 17,
   "metadata": {
    "id": "n-DbniYhRYmM"
   },
   "outputs": [
    {
     "name": "stdout",
     "output_type": "stream",
     "text": [
      "Q7-1 max_features='sqrt':  0.8975\n"
     ]
    }
   ],
   "source": [
    "# For Q6-1, validation accuracy should be higher than or equal to 0.88\n",
    "\n",
    "np.random.seed(0)\n",
    "\n",
    "rf_maxfeature_sqrt = RandomForest(n_estimators=10, max_features=np.sqrt(X_train.shape[1]), boostrap=True, criterion='gini', max_depth=None)\n",
    "rf_maxfeature_sqrt.fit(X_train, y_train)\n",
    "\n",
    "print(\"Q7-1 max_features='sqrt': \", accuracy_score(y_val,  rf_maxfeature_sqrt.predict(X_val)))"
   ]
  },
  {
   "cell_type": "code",
   "execution_count": 18,
   "metadata": {
    "id": "PF9yufSaRffn"
   },
   "outputs": [
    {
     "name": "stdout",
     "output_type": "stream",
     "text": [
      "Q7-1 max_features='All':  0.875\n"
     ]
    }
   ],
   "source": [
    "# For Q6-2, validation accuracy should be higher than or equal to 0.86\n",
    "\n",
    "np.random.seed(0)\n",
    "\n",
    "rf_maxfeature_none = RandomForest(n_estimators=10, max_features=None, boostrap=True, criterion='gini', max_depth=None)\n",
    "rf_maxfeature_none.fit(X_train, y_train)\n",
    "\n",
    "print(\"Q7-1 max_features='All': \", accuracy_score(y_val, rf_maxfeature_none.predict(X_val)))"
   ]
  },
  {
   "cell_type": "markdown",
   "metadata": {
    "id": "UjopdAZqUKbF"
   },
   "source": [
    "# Train your own model"
   ]
  },
  {
   "cell_type": "code",
   "execution_count": 19,
   "metadata": {
    "id": "Va4L29gfUPO8"
   },
   "outputs": [],
   "source": [
    "# Build and train your model"
   ]
  },
  {
   "cell_type": "code",
   "execution_count": 20,
   "metadata": {},
   "outputs": [
    {
     "name": "stdout",
     "output_type": "stream",
     "text": [
      "(1600, 7)\n",
      "(1600,)\n"
     ]
    }
   ],
   "source": [
    "X_all = np.concatenate((X_train, X_val))\n",
    "y_all = np.concatenate((y_train, y_val))\n",
    "print(X_all.shape)\n",
    "print(y_all.shape)"
   ]
  },
  {
   "cell_type": "code",
   "execution_count": 21,
   "metadata": {
    "id": "O3EUFXZW994g"
   },
   "outputs": [
    {
     "data": {
      "text/plain": [
       "'\\n    Updated as of 20:30 on Apr. 22.\\n    We have modified the baseline score, please check the HW3 slide.\\n'"
      ]
     },
     "execution_count": 21,
     "metadata": {},
     "output_type": "execute_result"
    }
   ],
   "source": [
    "\"\"\"\n",
    "    Updated as of 20:30 on Apr. 22.\n",
    "    We have modified the baseline score, please check the HW3 slide.\n",
    "\"\"\""
   ]
  },
  {
   "cell_type": "code",
   "execution_count": 22,
   "metadata": {},
   "outputs": [
    {
     "name": "stdout",
     "output_type": "stream",
     "text": [
      "my model n_estimators=50:  0.99625\n",
      "test_pred shape:  (800, 1)\n"
     ]
    }
   ],
   "source": [
    "my_model = RandomForest(n_estimators=50, max_features=np.sqrt(X_all.shape[1]), boostrap=True, criterion='gini', max_depth=None)\n",
    "my_model.fit(X_all, y_all)\n",
    "print(\"my model n_estimators=50: \", accuracy_score(y_val, my_model.predict(X_val)))\n",
    "\n",
    "test_pred = my_model.predict(X_test)\n",
    "test_pred = np.expand_dims(test_pred, axis=1)\n",
    "print(\"test_pred shape: \", test_pred.shape)"
   ]
  },
  {
   "cell_type": "code",
   "execution_count": 23,
   "metadata": {
    "id": "XCaZ4yFuR34B"
   },
   "outputs": [],
   "source": [
    "# output csv\n",
    "df_test = pd.DataFrame(pd.read_csv(\"./PR_HW3_Test.csv\"))\n",
    "df_test[\"Target\"] = test_pred\n",
    "df_test.to_csv(\"sample_output.csv\")"
   ]
  }
 ],
 "metadata": {
  "colab": {
   "provenance": []
  },
  "kernelspec": {
   "display_name": "Python 3 (ipykernel)",
   "language": "python",
   "name": "python3"
  },
  "language_info": {
   "codemirror_mode": {
    "name": "ipython",
    "version": 3
   },
   "file_extension": ".py",
   "mimetype": "text/x-python",
   "name": "python",
   "nbconvert_exporter": "python",
   "pygments_lexer": "ipython3",
   "version": "3.8.8"
  }
 },
 "nbformat": 4,
 "nbformat_minor": 1
}
