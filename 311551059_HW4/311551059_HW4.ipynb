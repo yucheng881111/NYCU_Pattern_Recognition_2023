{
 "cells": [
  {
   "cell_type": "code",
   "execution_count": 1,
   "metadata": {
    "id": "Z0yGksgOp91i"
   },
   "outputs": [],
   "source": [
    "import numpy as np\n",
    "import pandas as pd\n",
    "import matplotlib.pyplot as plt\n",
    "from sklearn.svm import SVC, SVR\n",
    "from sklearn.metrics import accuracy_score"
   ]
  },
  {
   "cell_type": "code",
   "execution_count": 2,
   "metadata": {
    "id": "7ZYQFbA0qMZ-"
   },
   "outputs": [],
   "source": [
    "# Load data\n",
    "x_train = np.load(\"x_train.npy\")\n",
    "y_train = np.load(\"y_train.npy\")\n",
    "x_test = np.load(\"x_test.npy\")\n",
    "y_test = np.load(\"y_test.npy\")"
   ]
  },
  {
   "cell_type": "code",
   "execution_count": 3,
   "metadata": {
    "id": "u0ewnfh6qOoM"
   },
   "outputs": [
    {
     "name": "stdout",
     "output_type": "stream",
     "text": [
      "(7000, 300)\n",
      "(7000,)\n",
      "(3000, 300)\n"
     ]
    }
   ],
   "source": [
    "# 7000 data with 300 features\n",
    "print(x_train.shape)\n",
    "print(y_train.shape)\n",
    "print(x_test.shape)"
   ]
  },
  {
   "cell_type": "code",
   "execution_count": 4,
   "metadata": {
    "id": "ryZdU0fdqTkb"
   },
   "outputs": [
    {
     "name": "stdout",
     "output_type": "stream",
     "text": [
      "[0 1]\n"
     ]
    }
   ],
   "source": [
    "# It's a binary classification problem \n",
    "print(np.unique(y_train))"
   ]
  },
  {
   "cell_type": "markdown",
   "metadata": {
    "id": "qy1aMJ7sqwwg"
   },
   "source": [
    "# Q1"
   ]
  },
  {
   "cell_type": "code",
   "execution_count": 5,
   "metadata": {
    "id": "TI26_jRbqVX3"
   },
   "outputs": [],
   "source": [
    "def cross_validation(x_train, y_train, k=5):\n",
    "    \n",
    "    # Do not modify the function name and always take 'x_train, y_train, k' as the inputs.\n",
    "\n",
    "    # TODO HERE\n",
    "    indices = np.arange(len(x_train))\n",
    "    np.random.seed(0)\n",
    "    np.random.shuffle(indices)\n",
    "    folds_idx = np.array_split(indices, k)  # Allows indices to be an integer that does not equally divide the axis.\n",
    "    folds_idx = np.array(folds_idx)\n",
    "    \n",
    "    k_fold_data = []\n",
    "    for i in range(k):\n",
    "        train_idx = [j for j in range(k) if i != j]\n",
    "        k_fold_data.append([np.concatenate((folds_idx[train_idx]), axis=None), folds_idx[i]])\n",
    "    \n",
    "    return k_fold_data"
   ]
  },
  {
   "cell_type": "code",
   "execution_count": 6,
   "metadata": {
    "id": "7jTma6saqf3E"
   },
   "outputs": [],
   "source": [
    "kfold_data = cross_validation(x_train, y_train, k=10)\n",
    "assert len(kfold_data) == 10 # should contain 10 fold of data\n",
    "assert len(kfold_data[0]) == 2 # each element should contain train fold and validation fold\n",
    "assert kfold_data[0][1].shape[0] == 700 # The number of data in each validation fold should equal to training data divieded by K"
   ]
  },
  {
   "cell_type": "markdown",
   "metadata": {
    "id": "IccJcpN_q0Z0"
   },
   "source": [
    "# K-Fold Example"
   ]
  },
  {
   "cell_type": "code",
   "execution_count": 7,
   "metadata": {
    "id": "O_zT2TAzqjay"
   },
   "outputs": [
    {
     "name": "stdout",
     "output_type": "stream",
     "text": [
      "Split: 1, Training index: [ 0  1  2  3  4  5  6  7  9 12 13 14 15 16 17 19], Validation index: [ 8 10 11 18]\n",
      "Split: 2, Training index: [ 0  1  2  3  4  5  6  7  8 10 11 14 15 16 17 18], Validation index: [ 9 12 13 19]\n",
      "Split: 3, Training index: [ 2  4  5  6  7  8  9 10 11 12 13 14 16 17 18 19], Validation index: [ 0  1  3 15]\n",
      "Split: 4, Training index: [ 0  1  3  7  8  9 10 11 12 13 14 15 16 17 18 19], Validation index: [2 4 5 6]\n",
      "Split: 5, Training index: [ 0  1  2  3  4  5  6  8  9 10 11 12 13 15 18 19], Validation index: [ 7 14 16 17]\n"
     ]
    }
   ],
   "source": [
    "from sklearn.model_selection import KFold\n",
    "\n",
    "X = np.arange(20)\n",
    "\n",
    "kf = KFold(n_splits=5, shuffle=True)\n",
    "kfold_data= []\n",
    "for i, (train_index, val_index) in enumerate(kf.split(X)):\n",
    "    print(\"Split: %s, Training index: %s, Validation index: %s\" % (i+1, train_index, val_index))\n",
    "    kfold_data.append([train_index, val_index])"
   ]
  },
  {
   "cell_type": "code",
   "execution_count": 8,
   "metadata": {
    "id": "lYCTmie5qnow"
   },
   "outputs": [],
   "source": [
    "assert len(kfold_data) == 5 # should contain 5 fold of data\n",
    "assert len(kfold_data[0]) == 2 # each element should contains index of training fold and validation fold\n",
    "assert kfold_data[0][1].shape[0] == 4 # The number of data in each validation fold should equal to training data divieded by K"
   ]
  },
  {
   "cell_type": "markdown",
   "metadata": {
    "id": "Gh-DQiNiq5v0"
   },
   "source": [
    "## Q2"
   ]
  },
  {
   "cell_type": "code",
   "execution_count": 9,
   "metadata": {
    "id": "31V1fW7Qq6la"
   },
   "outputs": [],
   "source": [
    "# (Example) Using SVC from sklearn\n",
    "\n",
    "clf = SVC(C=1.0, gamma=0.01, kernel='rbf')"
   ]
  },
  {
   "cell_type": "code",
   "execution_count": 10,
   "metadata": {
    "id": "VzBT0t6Yq_Dj"
   },
   "outputs": [
    {
     "name": "stdout",
     "output_type": "stream",
     "text": [
      "C=0.5, gamma=0.0001, score = 0.9944285714285714\n",
      "C=0.5, gamma=0.0005, score = 0.4967142857142857\n",
      "C=0.5, gamma=0.001, score = 0.4967142857142857\n",
      "C=0.5, gamma=0.005, score = 0.4967142857142857\n",
      "C=0.5, gamma=0.01, score = 0.4967142857142857\n",
      "C=0.5, gamma=0.05, score = 0.4967142857142857\n",
      "C=0.5, gamma=0.1, score = 0.4967142857142857\n",
      "C=1, gamma=0.0001, score = 0.9948571428571429\n",
      "C=1, gamma=0.0005, score = 0.7362857142857143\n",
      "C=1, gamma=0.001, score = 0.4967142857142857\n",
      "C=1, gamma=0.005, score = 0.4967142857142857\n",
      "C=1, gamma=0.01, score = 0.4967142857142857\n",
      "C=1, gamma=0.05, score = 0.4967142857142857\n",
      "C=1, gamma=0.1, score = 0.4967142857142857\n",
      "C=2, gamma=0.0001, score = 0.9948571428571429\n",
      "C=2, gamma=0.0005, score = 0.767\n",
      "C=2, gamma=0.001, score = 0.4967142857142857\n",
      "C=2, gamma=0.005, score = 0.4967142857142857\n",
      "C=2, gamma=0.01, score = 0.4967142857142857\n",
      "C=2, gamma=0.05, score = 0.4967142857142857\n",
      "C=2, gamma=0.1, score = 0.4967142857142857\n",
      "C=4, gamma=0.0001, score = 0.9948571428571429\n",
      "C=4, gamma=0.0005, score = 0.767\n",
      "C=4, gamma=0.001, score = 0.4967142857142857\n",
      "C=4, gamma=0.005, score = 0.4967142857142857\n",
      "C=4, gamma=0.01, score = 0.4967142857142857\n",
      "C=4, gamma=0.05, score = 0.4967142857142857\n",
      "C=4, gamma=0.1, score = 0.4967142857142857\n",
      "C=8, gamma=0.0001, score = 0.9948571428571429\n",
      "C=8, gamma=0.0005, score = 0.767\n",
      "C=8, gamma=0.001, score = 0.4967142857142857\n",
      "C=8, gamma=0.005, score = 0.4967142857142857\n",
      "C=8, gamma=0.01, score = 0.4967142857142857\n",
      "C=8, gamma=0.05, score = 0.4967142857142857\n",
      "C=8, gamma=0.1, score = 0.4967142857142857\n",
      "C=16, gamma=0.0001, score = 0.9948571428571429\n",
      "C=16, gamma=0.0005, score = 0.767\n",
      "C=16, gamma=0.001, score = 0.4967142857142857\n",
      "C=16, gamma=0.005, score = 0.4967142857142857\n",
      "C=16, gamma=0.01, score = 0.4967142857142857\n",
      "C=16, gamma=0.05, score = 0.4967142857142857\n",
      "C=16, gamma=0.1, score = 0.4967142857142857\n",
      "C=32, gamma=0.0001, score = 0.9948571428571429\n",
      "C=32, gamma=0.0005, score = 0.767\n",
      "C=32, gamma=0.001, score = 0.4967142857142857\n",
      "C=32, gamma=0.005, score = 0.4967142857142857\n",
      "C=32, gamma=0.01, score = 0.4967142857142857\n",
      "C=32, gamma=0.05, score = 0.4967142857142857\n",
      "C=32, gamma=0.1, score = 0.4967142857142857\n"
     ]
    }
   ],
   "source": [
    "best_c, best_gamma = None, None\n",
    "\n",
    "# TODO HERE\n",
    "# k-Flod Cross Validation and Grid Search\n",
    "kfold_data = cross_validation(x_train, y_train, k=5)\n",
    "c_grid = [0.5, 1, 2, 4, 8, 16, 32]\n",
    "gamma_grid = [0.0001, 0.0005, 0.001, 0.005, 0.01, 0.05, 0.1]\n",
    "best_score = 0\n",
    "grid_score = []\n",
    "for i in range(len(c_grid)):\n",
    "    li = []\n",
    "    for j in range(len(gamma_grid)):\n",
    "        clf = SVC(C=c_grid[i], gamma=gamma_grid[j], kernel='rbf')\n",
    "        score = 0\n",
    "        for train_idx, val_idx in kfold_data:\n",
    "            clf.fit(x_train[train_idx], y_train[train_idx])\n",
    "            y_pred = clf.predict(x_train[val_idx])\n",
    "            score += accuracy_score(y_pred, y_train[val_idx])\n",
    "        \n",
    "        avg_score = score / len(kfold_data)\n",
    "        li.append(avg_score)\n",
    "        print(f'C={c_grid[i]}, gamma={gamma_grid[j]}, score = {avg_score}')\n",
    "        if avg_score > best_score:\n",
    "            best_score = avg_score\n",
    "            best_c = c_grid[i]\n",
    "            best_gamma = gamma_grid[j]\n",
    "    \n",
    "    grid_score.append(li)\n",
    "\n",
    "best_parameters=(best_c, best_gamma)"
   ]
  },
  {
   "cell_type": "code",
   "execution_count": 11,
   "metadata": {
    "id": "mGTyHMFgrAXd"
   },
   "outputs": [
    {
     "name": "stdout",
     "output_type": "stream",
     "text": [
      "(best_c, best_gamma) is  (1, 0.0001)\n"
     ]
    }
   ],
   "source": [
    "print(\"(best_c, best_gamma) is \", best_parameters)"
   ]
  },
  {
   "cell_type": "markdown",
   "metadata": {
    "id": "KbPoOy0lrDPJ"
   },
   "source": [
    "# Q3"
   ]
  },
  {
   "cell_type": "code",
   "execution_count": 12,
   "metadata": {
    "id": "ibuxQOEQrEgJ"
   },
   "outputs": [
    {
     "data": {
      "image/png": "[encoded data removed]",
      "text/plain": [
       "<Figure size 720x432 with 2 Axes>"
      ]
     },
     "metadata": {
      "needs_background": "light"
     },
     "output_type": "display_data"
    }
   ],
   "source": [
    "# Plot the grid search results of your SVM\n",
    "\n",
    "# TODO HERE\n",
    "plt.figure(figsize=(10, 6))\n",
    "plt.imshow(grid_score, cmap='autumn', interpolation='nearest')\n",
    "plt.xticks(np.arange(len(gamma_grid)), gamma_grid)\n",
    "plt.yticks(np.arange(len(c_grid)), c_grid)\n",
    "plt.xlabel(\"Gamma Parameter\")\n",
    "plt.ylabel(\"C Parameter\")\n",
    "plt.title(\"Hyperparamter Gridsearch\")\n",
    "plt.colorbar()\n",
    "\n",
    "for i in range(len(c_grid)):\n",
    "    for j in range(len(gamma_grid)):\n",
    "        plt.text(j, i, f'{grid_score[i][j]:.3f}', ha='center', va='center', color='blue')\n",
    "    \n",
    "\n",
    "plt.show()\n"
   ]
  },
  {
   "cell_type": "markdown",
   "metadata": {
    "id": "QVA-It-4rM9Q"
   },
   "source": [
    "## Q4"
   ]
  },
  {
   "cell_type": "code",
   "execution_count": 13,
   "metadata": {
    "id": "Zl963HdLrMKg"
   },
   "outputs": [
    {
     "name": "stdout",
     "output_type": "stream",
     "text": [
      "Accuracy score:  0.995\n"
     ]
    }
   ],
   "source": [
    "# Do Not Modify Below\n",
    "\n",
    "best_model = SVC(C=best_parameters[0], gamma=best_parameters[1], kernel='rbf')\n",
    "best_model.fit(x_train, y_train)\n",
    "\n",
    "y_pred = best_model.predict(x_test)\n",
    "\n",
    "print(\"Accuracy score: \", accuracy_score(y_pred, y_test))\n",
    "\n",
    "# If your accuracy here > 0.9 then you will get full credit (20 points)."
   ]
  }
 ],
 "metadata": {
  "colab": {
   "provenance": []
  },
  "kernelspec": {
   "display_name": "Python 3 (ipykernel)",
   "language": "python",
   "name": "python3"
  },
  "language_info": {
   "codemirror_mode": {
    "name": "ipython",
    "version": 3
   },
   "file_extension": ".py",
   "mimetype": "text/x-python",
   "name": "python",
   "nbconvert_exporter": "python",
   "pygments_lexer": "ipython3",
   "version": "3.9.12"
  }
 },
 "nbformat": 4,
 "nbformat_minor": 1
}
