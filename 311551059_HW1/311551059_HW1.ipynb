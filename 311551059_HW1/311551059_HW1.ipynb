{
 "cells": [
  {
   "cell_type": "code",
   "execution_count": 1,
   "metadata": {
    "id": "2UCHEgmFnm56"
   },
   "outputs": [],
   "source": [
    "import numpy as np\n",
    "import pandas as pd\n",
    "import matplotlib.pyplot as plt "
   ]
  },
  {
   "cell_type": "code",
   "execution_count": 2,
   "metadata": {
    "id": "TsewcLvXnm5_",
    "scrolled": true
   },
   "outputs": [],
   "source": [
    "# TODO\n",
    "# Implement the linear regression using gradient descent by only numpy\n",
    "\n",
    "class LinearRegression:\n",
    "    \n",
    "    def __init__(self, task='single'):\n",
    "        \n",
    "        #print(\"Don't cheat.\")\n",
    "        self.epoch = []\n",
    "        self.train_loss = []\n",
    "        self.task = task\n",
    "        if task == 'single':\n",
    "            w0 = np.ones(1)\n",
    "        elif task == 'multiple':\n",
    "            w0 = np.ones(6)\n",
    "            \n",
    "        w1 = 0\n",
    "        self.weights = [w0, w1]\n",
    "        # y = w0 * x + w1\n",
    "\n",
    "    def fit(self, X, y, lr=0.001, epochs=100, batch_size=1):\n",
    "        \n",
    "        for epoch in range(epochs):\n",
    "            idx_start = 0\n",
    "            idx_end = batch_size\n",
    "            total_loss = 0\n",
    "            \n",
    "            for batch in range(len(X)//batch_size):\n",
    "                batch_x = X[idx_start:idx_end]\n",
    "                y_target = y[idx_start:idx_end]\n",
    "                idx_start += batch_size\n",
    "                idx_end += batch_size\n",
    "                if idx_end > len(X):\n",
    "                    idx_end = len(X)\n",
    "                \n",
    "                #y_pred = self.weights[0] * batch_x + self.weights[1]\n",
    "                y_pred = np.dot(batch_x, self.weights[0]) + self.weights[1]\n",
    "                total_loss += self.get_loss(y_pred, y_target)\n",
    "                # gradient of w0\n",
    "                #g_w0 = ((y_pred - y_target) * batch_x).mean()\n",
    "                g_w0 = np.dot(batch_x.T, (y_pred - y_target)) / batch_size\n",
    "                # gradient of w1\n",
    "                g_w1 = (y_pred - y_target).mean()\n",
    "                \n",
    "                self.weights[0] -= lr * g_w0\n",
    "                self.weights[1] -= lr * g_w1\n",
    "                '''\n",
    "                if self.task == 'single':\n",
    "                    print('epoch {}: weight {:.2f} intercept {:.2f}'.format(epoch, self.weights[0][0], self.weights[1]))\n",
    "                elif self.task == 'multiple':\n",
    "                    print('epoch {}: weight {:.2f}, {:.2f}, {:.2f}, {:.2f}, {:.2f}, {:.2f} intercept {:.2f}'.format(\n",
    "                    epoch, self.weights[0][0], self.weights[0][1], self.weights[0][2], self.weights[0][3], self.weights[0][4], self.weights[0][5], self.weights[1]))\n",
    "                '''\n",
    "            self.epoch.append(epoch)\n",
    "            self.train_loss.append(total_loss)\n",
    "            \n",
    "            \n",
    "\n",
    "    def get_loss(self, X, y):\n",
    "        return np.mean((X - y) ** 2)\n",
    "\n",
    "    def predict(self, X):\n",
    "        return np.dot(X, self.weights[0]) + self.weights[1]\n",
    "                \n",
    "    def evaluate(self, X, y):\n",
    "        y_pred = np.dot(X, self.weights[0]) + self.weights[1]\n",
    "        return np.mean((y_pred - y) ** 2)\n",
    "        \n",
    "    def plot_curve(self):\n",
    "        # self.epoch and self.train_loss may be helpful here. \n",
    "        plt.plot(self.epoch, self.train_loss, 'b')\n",
    "        plt.xlabel('epoch', fontsize=12)\n",
    "        plt.ylabel('loss', fontsize=12)\n",
    "        plt.show()\n"
   ]
  },
  {
   "cell_type": "markdown",
   "metadata": {
    "id": "vE0LqmRdnm6B"
   },
   "source": [
    "# Load data & data pre-processing"
   ]
  },
  {
   "cell_type": "code",
   "execution_count": 3,
   "metadata": {
    "id": "nS5JuNtvnm6C"
   },
   "outputs": [],
   "source": [
    "df_train = pd.DataFrame(pd.read_csv(\"./regression_train.csv\"))\n",
    "df_val   = pd.DataFrame(pd.read_csv(\"./regression_val.csv\"))\n",
    "df_test  = pd.DataFrame(pd.read_csv(\"./regression_test.csv\"))"
   ]
  },
  {
   "cell_type": "code",
   "execution_count": 4,
   "metadata": {
    "id": "8ZxnlaLdnm6C"
   },
   "outputs": [
    {
     "data": {
      "text/html": [
       "<div>\n",
       "<style scoped>\n",
       "    .dataframe tbody tr th:only-of-type {\n",
       "        vertical-align: middle;\n",
       "    }\n",
       "\n",
       "    .dataframe tbody tr th {\n",
       "        vertical-align: top;\n",
       "    }\n",
       "\n",
       "    .dataframe thead th {\n",
       "        text-align: right;\n",
       "    }\n",
       "</style>\n",
       "<table border=\"1\" class=\"dataframe\">\n",
       "  <thead>\n",
       "    <tr style=\"text-align: right;\">\n",
       "      <th></th>\n",
       "      <th>age</th>\n",
       "      <th>sex</th>\n",
       "      <th>bmi</th>\n",
       "      <th>children</th>\n",
       "      <th>smoker</th>\n",
       "      <th>region</th>\n",
       "      <th>charges</th>\n",
       "    </tr>\n",
       "  </thead>\n",
       "  <tbody>\n",
       "    <tr>\n",
       "      <th>0</th>\n",
       "      <td>19</td>\n",
       "      <td>female</td>\n",
       "      <td>27.900</td>\n",
       "      <td>0</td>\n",
       "      <td>yes</td>\n",
       "      <td>southwest</td>\n",
       "      <td>16884.92400</td>\n",
       "    </tr>\n",
       "    <tr>\n",
       "      <th>1</th>\n",
       "      <td>18</td>\n",
       "      <td>male</td>\n",
       "      <td>33.770</td>\n",
       "      <td>1</td>\n",
       "      <td>no</td>\n",
       "      <td>southeast</td>\n",
       "      <td>1725.55230</td>\n",
       "    </tr>\n",
       "    <tr>\n",
       "      <th>2</th>\n",
       "      <td>28</td>\n",
       "      <td>male</td>\n",
       "      <td>33.000</td>\n",
       "      <td>3</td>\n",
       "      <td>no</td>\n",
       "      <td>southeast</td>\n",
       "      <td>4449.46200</td>\n",
       "    </tr>\n",
       "    <tr>\n",
       "      <th>3</th>\n",
       "      <td>33</td>\n",
       "      <td>male</td>\n",
       "      <td>22.705</td>\n",
       "      <td>0</td>\n",
       "      <td>no</td>\n",
       "      <td>northwest</td>\n",
       "      <td>21984.47061</td>\n",
       "    </tr>\n",
       "    <tr>\n",
       "      <th>4</th>\n",
       "      <td>32</td>\n",
       "      <td>male</td>\n",
       "      <td>28.880</td>\n",
       "      <td>0</td>\n",
       "      <td>no</td>\n",
       "      <td>northwest</td>\n",
       "      <td>3866.85520</td>\n",
       "    </tr>\n",
       "  </tbody>\n",
       "</table>\n",
       "</div>"
      ],
      "text/plain": [
       "   age     sex     bmi  children smoker     region      charges\n",
       "0   19  female  27.900         0    yes  southwest  16884.92400\n",
       "1   18    male  33.770         1     no  southeast   1725.55230\n",
       "2   28    male  33.000         3     no  southeast   4449.46200\n",
       "3   33    male  22.705         0     no  northwest  21984.47061\n",
       "4   32    male  28.880         0     no  northwest   3866.85520"
      ]
     },
     "execution_count": 4,
     "metadata": {},
     "output_type": "execute_result"
    }
   ],
   "source": [
    "df_train.head()"
   ]
  },
  {
   "cell_type": "code",
   "execution_count": 5,
   "metadata": {
    "id": "CKxM6OJSnm6D"
   },
   "outputs": [
    {
     "data": {
      "text/html": [
       "<div>\n",
       "<style scoped>\n",
       "    .dataframe tbody tr th:only-of-type {\n",
       "        vertical-align: middle;\n",
       "    }\n",
       "\n",
       "    .dataframe tbody tr th {\n",
       "        vertical-align: top;\n",
       "    }\n",
       "\n",
       "    .dataframe thead th {\n",
       "        text-align: right;\n",
       "    }\n",
       "</style>\n",
       "<table border=\"1\" class=\"dataframe\">\n",
       "  <thead>\n",
       "    <tr style=\"text-align: right;\">\n",
       "      <th></th>\n",
       "      <th>age</th>\n",
       "      <th>sex</th>\n",
       "      <th>bmi</th>\n",
       "      <th>children</th>\n",
       "      <th>smoker</th>\n",
       "      <th>region</th>\n",
       "      <th>charges</th>\n",
       "    </tr>\n",
       "  </thead>\n",
       "  <tbody>\n",
       "    <tr>\n",
       "      <th>0</th>\n",
       "      <td>33</td>\n",
       "      <td>male</td>\n",
       "      <td>30.25</td>\n",
       "      <td>0</td>\n",
       "      <td>no</td>\n",
       "      <td>southeast</td>\n",
       "      <td>NaN</td>\n",
       "    </tr>\n",
       "    <tr>\n",
       "      <th>1</th>\n",
       "      <td>19</td>\n",
       "      <td>female</td>\n",
       "      <td>32.49</td>\n",
       "      <td>0</td>\n",
       "      <td>yes</td>\n",
       "      <td>northwest</td>\n",
       "      <td>NaN</td>\n",
       "    </tr>\n",
       "    <tr>\n",
       "      <th>2</th>\n",
       "      <td>50</td>\n",
       "      <td>male</td>\n",
       "      <td>37.07</td>\n",
       "      <td>1</td>\n",
       "      <td>no</td>\n",
       "      <td>southeast</td>\n",
       "      <td>NaN</td>\n",
       "    </tr>\n",
       "    <tr>\n",
       "      <th>3</th>\n",
       "      <td>41</td>\n",
       "      <td>female</td>\n",
       "      <td>32.60</td>\n",
       "      <td>3</td>\n",
       "      <td>no</td>\n",
       "      <td>southwest</td>\n",
       "      <td>NaN</td>\n",
       "    </tr>\n",
       "    <tr>\n",
       "      <th>4</th>\n",
       "      <td>52</td>\n",
       "      <td>female</td>\n",
       "      <td>24.86</td>\n",
       "      <td>0</td>\n",
       "      <td>no</td>\n",
       "      <td>southeast</td>\n",
       "      <td>NaN</td>\n",
       "    </tr>\n",
       "  </tbody>\n",
       "</table>\n",
       "</div>"
      ],
      "text/plain": [
       "   age     sex    bmi  children smoker     region  charges\n",
       "0   33    male  30.25         0     no  southeast      NaN\n",
       "1   19  female  32.49         0    yes  northwest      NaN\n",
       "2   50    male  37.07         1     no  southeast      NaN\n",
       "3   41  female  32.60         3     no  southwest      NaN\n",
       "4   52  female  24.86         0     no  southeast      NaN"
      ]
     },
     "execution_count": 5,
     "metadata": {},
     "output_type": "execute_result"
    }
   ],
   "source": [
    "df_test.head()"
   ]
  },
  {
   "cell_type": "code",
   "execution_count": 6,
   "metadata": {
    "id": "C2VQYttZohkx",
    "scrolled": false
   },
   "outputs": [
    {
     "name": "stdout",
     "output_type": "stream",
     "text": [
      "<class 'pandas.core.frame.DataFrame'>\n",
      "RangeIndex: 938 entries, 0 to 937\n",
      "Data columns (total 7 columns):\n",
      " #   Column    Non-Null Count  Dtype  \n",
      "---  ------    --------------  -----  \n",
      " 0   age       938 non-null    int64  \n",
      " 1   sex       938 non-null    object \n",
      " 2   bmi       938 non-null    float64\n",
      " 3   children  938 non-null    int64  \n",
      " 4   smoker    938 non-null    object \n",
      " 5   region    938 non-null    object \n",
      " 6   charges   938 non-null    float64\n",
      "dtypes: float64(2), int64(2), object(3)\n",
      "memory usage: 51.4+ KB\n"
     ]
    }
   ],
   "source": [
    "df_train.info()"
   ]
  },
  {
   "cell_type": "code",
   "execution_count": 7,
   "metadata": {
    "id": "9wO-wPLypbzB"
   },
   "outputs": [
    {
     "name": "stdout",
     "output_type": "stream",
     "text": [
      "<class 'pandas.core.frame.DataFrame'>\n",
      "RangeIndex: 938 entries, 0 to 937\n",
      "Data columns (total 7 columns):\n",
      " #   Column    Non-Null Count  Dtype  \n",
      "---  ------    --------------  -----  \n",
      " 0   age       938 non-null    int64  \n",
      " 1   sex       938 non-null    int64  \n",
      " 2   bmi       938 non-null    float64\n",
      " 3   children  938 non-null    int64  \n",
      " 4   smoker    938 non-null    int64  \n",
      " 5   region    938 non-null    int64  \n",
      " 6   charges   938 non-null    float64\n",
      "dtypes: float64(2), int64(5)\n",
      "memory usage: 51.4 KB\n"
     ]
    }
   ],
   "source": [
    "# TODO\n",
    "# You may do the labelEncoder here\n",
    "\n",
    "#### For multiple features, please use the following settings.####\n",
    "\n",
    "def label_encoding(df):\n",
    "    # sex.female -> 0\n",
    "    # sex.male -> 1\n",
    "    li = []\n",
    "    for data in df['sex']:\n",
    "        if data == 'female':\n",
    "            li.append(0)\n",
    "        else:\n",
    "            li.append(1)\n",
    "\n",
    "    df['sex'] = pd.DataFrame(li)\n",
    "\n",
    "    # smoker.no -> 0\n",
    "    # smoker.yes -> 1\n",
    "    li = []\n",
    "    for data in df['smoker']:\n",
    "        if data == 'no':\n",
    "            li.append(0)\n",
    "        else:\n",
    "            li.append(1)\n",
    "\n",
    "    df['smoker'] = pd.DataFrame(li)\n",
    "\n",
    "    # region.northeast -> 0\n",
    "    # region.northwest -> 1\n",
    "    # region.southeast -> 2\n",
    "    # region.southwest -> 3\n",
    "    li = []\n",
    "    for data in df['region']:\n",
    "        if data == 'northeast':\n",
    "            li.append(0)\n",
    "        elif data == 'northwest':\n",
    "            li.append(1)\n",
    "        elif data == 'southeast':\n",
    "            li.append(2)\n",
    "        else:\n",
    "            li.append(3)\n",
    "\n",
    "    df['region'] = pd.DataFrame(li)\n",
    "\n",
    "label_encoding(df_train)\n",
    "label_encoding(df_val)\n",
    "label_encoding(df_test)\n",
    "##################################################################\n",
    "\n",
    "\n",
    "# You may try different label encoding for training your own model\n",
    "\n",
    "df_train.info()"
   ]
  },
  {
   "cell_type": "markdown",
   "metadata": {
    "id": "OJj42I-0nm6F"
   },
   "source": [
    "# Single feature (using bmi)"
   ]
  },
  {
   "cell_type": "code",
   "execution_count": 8,
   "metadata": {
    "id": "yedo6qY3nm6F"
   },
   "outputs": [],
   "source": [
    "# Do not modify here\n",
    "\n",
    "x_train = df_train.drop(['charges'], axis=1)\n",
    "y_train = df_train['charges']\n",
    "x_train = x_train[['bmi']]\n",
    "\n",
    "x_val = df_val.drop(['charges'], axis=1)\n",
    "y_val = df_val['charges']\n",
    "x_val = x_val[['bmi']]\n",
    "\n",
    "x_test = df_test.drop(['charges'], axis=1)\n",
    "x_test = x_test[['bmi']]"
   ]
  },
  {
   "cell_type": "code",
   "execution_count": 9,
   "metadata": {
    "id": "ObKo4RachwJ_"
   },
   "outputs": [],
   "source": [
    "# TODO\n",
    "# You may convert data to NumPy here \n",
    "x_train = np.array(x_train)\n",
    "y_train = np.array(y_train)\n",
    "x_val = np.array(x_val)\n",
    "y_val = np.array(y_val)\n",
    "x_test = np.array(x_test)"
   ]
  },
  {
   "cell_type": "code",
   "execution_count": 10,
   "metadata": {
    "id": "0ir1zYhBnm6H",
    "scrolled": true
   },
   "outputs": [],
   "source": [
    "batch_size = x_train.shape[0]\n",
    "\n",
    "# TODO\n",
    "# Tune the parameters\n",
    "# Refer to slide page 9\n",
    "lr = 2*1e-3\n",
    "epochs = 250000\n",
    "\n",
    "linear_reg = LinearRegression()\n",
    "linear_reg.fit(x_train, y_train, lr=lr, epochs=epochs, batch_size=batch_size)"
   ]
  },
  {
   "cell_type": "code",
   "execution_count": 11,
   "metadata": {
    "id": "513GqkCdnm6H",
    "scrolled": false
   },
   "outputs": [
    {
     "name": "stdout",
     "output_type": "stream",
     "text": [
      "Intercepts:  1382.5371478013026\n",
      "Weights:  [array([380.1346459])]\n"
     ]
    }
   ],
   "source": [
    "print(\"Intercepts: \", linear_reg.weights[-1])\n",
    "print(\"Weights: \", linear_reg.weights[:-1])"
   ]
  },
  {
   "cell_type": "code",
   "execution_count": 12,
   "metadata": {
    "id": "gMtpEVnlnm6I",
    "scrolled": true
   },
   "outputs": [
    {
     "name": "stdout",
     "output_type": "stream",
     "text": [
      "training loss:  139562065.48342776\n"
     ]
    }
   ],
   "source": [
    "print('training loss: ', linear_reg.evaluate(x_train, y_train))"
   ]
  },
  {
   "cell_type": "code",
   "execution_count": 13,
   "metadata": {
    "id": "xQ42eFmxoujI"
   },
   "outputs": [
    {
     "name": "stdout",
     "output_type": "stream",
     "text": [
      "validation loss:  136920284.38379115\n"
     ]
    }
   ],
   "source": [
    "print('validation loss: ', linear_reg.evaluate(x_val, y_val))"
   ]
  },
  {
   "cell_type": "code",
   "execution_count": 14,
   "metadata": {
    "id": "2aNyL15ynm6I"
   },
   "outputs": [],
   "source": [
    "test_pred = linear_reg.predict(x_test)"
   ]
  },
  {
   "cell_type": "code",
   "execution_count": 15,
   "metadata": {
    "id": "wM2x8Tvmnm6J",
    "scrolled": true
   },
   "outputs": [
    {
     "data": {
      "image/png": "[encoded data removed]",
      "text/plain": [
       "<Figure size 432x288 with 1 Axes>"
      ]
     },
     "metadata": {
      "needs_background": "light"
     },
     "output_type": "display_data"
    }
   ],
   "source": [
    "linear_reg.plot_curve()"
   ]
  },
  {
   "cell_type": "code",
   "execution_count": 16,
   "metadata": {
    "id": "SIusBE_dnm6J"
   },
   "outputs": [
    {
     "data": {
      "image/png": "[encoded data removed]",
      "text/plain": [
       "<Figure size 432x288 with 1 Axes>"
      ]
     },
     "metadata": {
      "needs_background": "light"
     },
     "output_type": "display_data"
    }
   ],
   "source": [
    "# Use matplotlib to plot the predicted line with the training and validation samples\n",
    "\n",
    "# TODO\n",
    "weight = linear_reg.weights[:-1][0][0]\n",
    "intercept = linear_reg.weights[-1]\n",
    "\n",
    "plt.scatter(x_train, y_train, c='b')\n",
    "plt.scatter(x_val, y_val, c='orange')\n",
    "x = np.linspace(15.0, 60.0)\n",
    "y = x * weight + intercept\n",
    "plt.plot(x, y, 'r')\n",
    "\n",
    "plt.title('Charges vs BMI',fontsize=12)\n",
    "plt.xlabel('BMI',fontsize=12)\n",
    "plt.ylabel('Charges',fontsize=12)\n",
    "plt.legend(['Training samples', 'Validation samples', 'Linear model'])\n",
    "plt.show()"
   ]
  },
  {
   "cell_type": "markdown",
   "metadata": {
    "id": "el3_fUSVnm6K"
   },
   "source": [
    "# Multiple features"
   ]
  },
  {
   "cell_type": "code",
   "execution_count": 17,
   "metadata": {
    "id": "hzijeACjnm6L"
   },
   "outputs": [],
   "source": [
    "# Do not modify here\n",
    "\n",
    "x_train = df_train.drop(['charges'], axis=1)\n",
    "y_train = df_train['charges']\n",
    "\n",
    "x_val = df_val.drop(['charges'], axis=1)\n",
    "y_val = df_val['charges']\n",
    "\n",
    "x_test = df_test.drop(['charges'], axis=1)"
   ]
  },
  {
   "cell_type": "code",
   "execution_count": 18,
   "metadata": {
    "id": "vz4Qn8Umh9Gm"
   },
   "outputs": [],
   "source": [
    "# TODO\n",
    "# You may convert data to NumPy here \n",
    "x_train = np.array(x_train)\n",
    "y_train = np.array(y_train)\n",
    "x_val = np.array(x_val)\n",
    "y_val = np.array(y_val)\n",
    "x_test = np.array(x_test)"
   ]
  },
  {
   "cell_type": "code",
   "execution_count": 19,
   "metadata": {
    "id": "Ek8YAFolnm6M"
   },
   "outputs": [],
   "source": [
    "batch_size = x_train.shape[0]\n",
    "\n",
    "# TODO\n",
    "# Tune the parameters\n",
    "# Refer to slide page 10\n",
    "lr = 7*1e-4\n",
    "epochs = 1000000\n",
    "\n",
    "linear_reg = LinearRegression('multiple')\n",
    "linear_reg.fit(x_train, y_train, lr=lr, epochs=epochs, batch_size=batch_size)"
   ]
  },
  {
   "cell_type": "code",
   "execution_count": 20,
   "metadata": {
    "id": "77bKB1JKnm6M",
    "scrolled": true
   },
   "outputs": [
    {
     "name": "stdout",
     "output_type": "stream",
     "text": [
      "Intercepts:  -11857.057350985515\n",
      "Weights:  [array([  259.85086418,  -383.54524442,   333.33251488,   442.55747832,\n",
      "       24032.22099508,  -416.01438631])]\n"
     ]
    }
   ],
   "source": [
    "print(\"Intercepts: \", linear_reg.weights[-1])\n",
    "print(\"Weights: \", linear_reg.weights[:-1])"
   ]
  },
  {
   "cell_type": "code",
   "execution_count": 21,
   "metadata": {
    "id": "v3bZe5XVnm6N",
    "scrolled": false
   },
   "outputs": [
    {
     "name": "stdout",
     "output_type": "stream",
     "text": [
      "training loss:  34697170.25351918\n"
     ]
    }
   ],
   "source": [
    "print('training loss: ', linear_reg.evaluate(x_train, y_train))"
   ]
  },
  {
   "cell_type": "code",
   "execution_count": 22,
   "metadata": {
    "id": "MgnD2yXVo-67"
   },
   "outputs": [
    {
     "name": "stdout",
     "output_type": "stream",
     "text": [
      "validation loss:  41958565.75652556\n"
     ]
    }
   ],
   "source": [
    "print('validation loss: ', linear_reg.evaluate(x_val, y_val))"
   ]
  },
  {
   "cell_type": "code",
   "execution_count": 23,
   "metadata": {
    "id": "L1dVgl2unm6N"
   },
   "outputs": [],
   "source": [
    "test_pred = linear_reg.predict(x_test)"
   ]
  },
  {
   "cell_type": "code",
   "execution_count": 24,
   "metadata": {
    "id": "Js0IK_Blnm6O"
   },
   "outputs": [
    {
     "data": {
      "image/png": "[encoded data removed]",
      "text/plain": [
       "<Figure size 432x288 with 1 Axes>"
      ]
     },
     "metadata": {
      "needs_background": "light"
     },
     "output_type": "display_data"
    }
   ],
   "source": [
    "linear_reg.plot_curve()"
   ]
  },
  {
   "cell_type": "markdown",
   "metadata": {
    "id": "mcyR-WJzxRsw"
   },
   "source": [
    "# Train your own model and predict for testing data."
   ]
  },
  {
   "cell_type": "code",
   "execution_count": 25,
   "metadata": {},
   "outputs": [],
   "source": [
    "class MyLinearRegression:\n",
    "    \n",
    "    def __init__(self, n_feature):\n",
    "        self.epoch = []\n",
    "        self.train_loss = []\n",
    "        self.n_feature = n_feature\n",
    "        w0 = np.ones(n_feature)\n",
    "        w1 = 0\n",
    "        self.weights = [w0, w1]\n",
    "\n",
    "    def fit(self, X, y, lr=0.001, epochs=100, batch_size=1):\n",
    "        \n",
    "        for epoch in range(epochs):\n",
    "            idx_start = 0\n",
    "            idx_end = batch_size\n",
    "            total_loss = 0\n",
    "            \n",
    "            for batch in range(len(X)//batch_size):\n",
    "                batch_x = X[idx_start:idx_end]\n",
    "                y_target = y[idx_start:idx_end]\n",
    "                idx_start += batch_size\n",
    "                idx_end += batch_size\n",
    "                if idx_end > len(X):\n",
    "                    idx_end = len(X)\n",
    "                \n",
    "                #y_pred = self.weights[0] * batch_x + self.weights[1]\n",
    "                y_pred = np.dot(batch_x, self.weights[0]) + self.weights[1]\n",
    "                total_loss += self.get_loss(y_pred, y_target)\n",
    "                # gradient of w0\n",
    "                #g_w0 = ((y_pred - y_target) * batch_x).mean()\n",
    "                g_w0 = np.dot(batch_x.T, (y_pred - y_target)) / batch_size\n",
    "                # gradient of w1\n",
    "                g_w1 = (y_pred - y_target).mean()\n",
    "                \n",
    "                self.weights[0] -= lr * g_w0\n",
    "                self.weights[1] -= lr * g_w1\n",
    "                '''\n",
    "                print('epoch ' + str(epoch) + ':', end=' ')\n",
    "                for i in range(self.n_feature):\n",
    "                    print('weight {:.2f},'.format(self.weights[0][i]), end=' ')\n",
    "                print('intercept {:.2f}'.format(self.weights[1]))\n",
    "                '''\n",
    "            self.epoch.append(epoch)\n",
    "            self.train_loss.append(total_loss)\n",
    "            \n",
    "            \n",
    "\n",
    "    def get_loss(self, X, y):\n",
    "        return np.mean((X - y) ** 2)\n",
    "\n",
    "    def predict(self, X):\n",
    "        y_pred = np.dot(X, self.weights[0]) + self.weights[1]\n",
    "        y_pred = np.expand_dims(y_pred, axis=1)\n",
    "        return y_pred\n",
    "                \n",
    "    def evaluate(self, X, y):\n",
    "        y_pred = np.dot(X, self.weights[0]) + self.weights[1]\n",
    "        return np.mean((y_pred - y) ** 2)\n",
    "        \n",
    "    def plot_curve(self):\n",
    "        # self.epoch and self.train_loss may be helpful here. \n",
    "        plt.plot(self.epoch, self.train_loss, 'b')\n",
    "        plt.xlabel('epoch', fontsize=12)\n",
    "        plt.ylabel('loss', fontsize=12)\n",
    "        plt.show()"
   ]
  },
  {
   "cell_type": "code",
   "execution_count": 26,
   "metadata": {},
   "outputs": [],
   "source": [
    "# features: age, sex, bmi, children, smoker, region\n",
    "x_train = df_train.drop(['charges', 'sex', 'children'], axis=1)\n",
    "y_train = df_train['charges']\n",
    "x_val = df_val.drop(['charges', 'sex', 'children'], axis=1)\n",
    "y_val = df_val['charges']\n",
    "x_test = df_test.drop(['charges', 'sex', 'children'], axis=1)\n",
    "\n",
    "x_train = np.array(x_train)\n",
    "y_train = np.array(y_train)\n",
    "x_val = np.array(x_val)\n",
    "y_val = np.array(y_val)\n",
    "x_test = np.array(x_test)\n",
    "\n",
    "def poly_feature(a):\n",
    "    Len = a.shape[0]\n",
    "    buffer = []\n",
    "    li0 = [1] * Len\n",
    "    li1 = a[:,0].tolist()\n",
    "    li2 = a[:,1].tolist()\n",
    "    li3 = a[:,2].tolist()\n",
    "    li4 = a[:,3].tolist()\n",
    "    li5 = (a[:,0] * a[:,1]).tolist()\n",
    "    li6 = (a[:,0] * a[:,2]).tolist()\n",
    "    li7 = (a[:,0] * a[:,3]).tolist()\n",
    "    li8 = (a[:,1] * a[:,2]).tolist()\n",
    "    li9 = (a[:,1] * a[:,3]).tolist()\n",
    "    li10 = (a[:,2] * a[:,3]).tolist()\n",
    "    li11 = (a[:,0] * a[:,1] * a[:,2]).tolist()\n",
    "    li12 = (a[:,0] * a[:,1] * a[:,3]).tolist()\n",
    "    li13 = (a[:,0] * a[:,2] * a[:,3]).tolist()\n",
    "    li14 = (a[:,1] * a[:,2] * a[:,3]).tolist()\n",
    "    li15 = (a[:,0] * a[:,1] * a[:,2] * a[:,3]).tolist()\n",
    "    \n",
    "    buffer.append(li0)\n",
    "    buffer.append(li1)\n",
    "    buffer.append(li2)\n",
    "    buffer.append(li3)\n",
    "    buffer.append(li4)\n",
    "    buffer.append(li5)\n",
    "    buffer.append(li6)\n",
    "    buffer.append(li7)\n",
    "    buffer.append(li8)\n",
    "    buffer.append(li9)\n",
    "    buffer.append(li10)\n",
    "    buffer.append(li11)\n",
    "    buffer.append(li12)\n",
    "    buffer.append(li13)\n",
    "    buffer.append(li14)\n",
    "    buffer.append(li15)\n",
    "    \n",
    "    buffer = np.array(buffer, dtype=float)\n",
    "    return buffer.T\n",
    "\n",
    "\n",
    "x_train = poly_feature(x_train)\n",
    "x_val = poly_feature(x_val)\n",
    "x_test = poly_feature(x_test)"
   ]
  },
  {
   "cell_type": "code",
   "execution_count": 27,
   "metadata": {},
   "outputs": [],
   "source": [
    "batch_size = x_train.shape[0]\n",
    "linear_reg = MyLinearRegression(16)\n",
    "lr = 1e-7\n",
    "epochs = 1000000\n",
    "linear_reg.fit(x_train, y_train, lr=lr, epochs=epochs, batch_size=batch_size)"
   ]
  },
  {
   "cell_type": "code",
   "execution_count": 28,
   "metadata": {},
   "outputs": [
    {
     "name": "stdout",
     "output_type": "stream",
     "text": [
      "training loss:  23301836.36248132\n",
      "validation loss:  28305788.92847915\n"
     ]
    }
   ],
   "source": [
    "print('training loss: ', linear_reg.evaluate(x_train, y_train))\n",
    "print('validation loss: ', linear_reg.evaluate(x_val, y_val))"
   ]
  },
  {
   "cell_type": "code",
   "execution_count": 29,
   "metadata": {
    "id": "x-Q1nUG6xZfM"
   },
   "outputs": [
    {
     "name": "stdout",
     "output_type": "stream",
     "text": [
      "test_pred shape:  (200, 1)\n"
     ]
    }
   ],
   "source": [
    "test_pred = linear_reg.predict(x_test)\n",
    "print(\"test_pred shape: \", test_pred.shape)\n",
    "assert test_pred.shape == (200, 1)"
   ]
  },
  {
   "cell_type": "markdown",
   "metadata": {
    "id": "QCeukZcenm6O"
   },
   "source": [
    "# Output the csv file"
   ]
  },
  {
   "cell_type": "code",
   "execution_count": 30,
   "metadata": {
    "id": "SEN7NUgmnm6O"
   },
   "outputs": [],
   "source": [
    "df_test = pd.DataFrame(pd.read_csv(\"./regression_test.csv\"))\n",
    "df_test[\"charges\"] = test_pred\n",
    "df_test.to_csv(\"sample_output.csv\")"
   ]
  }
 ],
 "metadata": {
  "colab": {
   "provenance": []
  },
  "kernelspec": {
   "display_name": "Python 3 (ipykernel)",
   "language": "python",
   "name": "python3"
  },
  "language_info": {
   "codemirror_mode": {
    "name": "ipython",
    "version": 3
   },
   "file_extension": ".py",
   "mimetype": "text/x-python",
   "name": "python",
   "nbconvert_exporter": "python",
   "pygments_lexer": "ipython3",
   "version": "3.9.12"
  },
  "vscode": {
   "interpreter": {
    "hash": "31f2aee4e71d21fbe5cf8b01ff0e069b9275f58929596ceb00d14d90e3e16cd6"
   }
  }
 },
 "nbformat": 4,
 "nbformat_minor": 1
}
